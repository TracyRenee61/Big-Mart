{
  "nbformat": 4,
  "nbformat_minor": 0,
  "metadata": {
    "colab": {
      "name": "Analytics Big Mart Prices - Keras .ipynb",
      "provenance": [],
      "collapsed_sections": []
    },
    "kernelspec": {
      "name": "python3",
      "display_name": "Python 3"
    }
  },
  "cells": [
    {
      "cell_type": "code",
      "metadata": {
        "id": "_iJguKc5hjGB",
        "colab_type": "code",
        "colab": {}
      },
      "source": [
        "import pandas as pd\n",
        "import numpy as np\n",
        "import matplotlib.pyplot as plt\n",
        "import seaborn as sns\n",
        "from scipy.stats import norm\n",
        "from scipy import stats\n",
        "import warnings\n",
        "\n",
        "from sklearn.ensemble import RandomForestRegressor\n",
        "from sklearn.metrics import mean_absolute_error\n",
        "from sklearn.model_selection import train_test_split\n",
        "from sklearn.impute import SimpleImputer\n",
        "from sklearn.preprocessing import StandardScaler\n",
        "%matplotlib inline\n",
        "warnings.filterwarnings('ignore')\n"
      ],
      "execution_count": 988,
      "outputs": []
    },
    {
      "cell_type": "code",
      "metadata": {
        "id": "-xqQXp9uiRVy",
        "colab_type": "code",
        "colab": {
          "base_uri": "https://localhost:8080/",
          "height": 609
        },
        "outputId": "bfef4496-80d7-4c04-f989-2d07c20d014e"
      },
      "source": [
        "#Load datasets\n",
        "df_train=pd.read_csv(\"https://datahack-prod.s3.amazonaws.com/train_file/train_v9rqX0R.csv\")\n",
        "df_train"
      ],
      "execution_count": 989,
      "outputs": [
        {
          "output_type": "execute_result",
          "data": {
            "text/html": [
              "<div>\n",
              "<style scoped>\n",
              "    .dataframe tbody tr th:only-of-type {\n",
              "        vertical-align: middle;\n",
              "    }\n",
              "\n",
              "    .dataframe tbody tr th {\n",
              "        vertical-align: top;\n",
              "    }\n",
              "\n",
              "    .dataframe thead th {\n",
              "        text-align: right;\n",
              "    }\n",
              "</style>\n",
              "<table border=\"1\" class=\"dataframe\">\n",
              "  <thead>\n",
              "    <tr style=\"text-align: right;\">\n",
              "      <th></th>\n",
              "      <th>Item_Identifier</th>\n",
              "      <th>Item_Weight</th>\n",
              "      <th>Item_Fat_Content</th>\n",
              "      <th>Item_Visibility</th>\n",
              "      <th>Item_Type</th>\n",
              "      <th>Item_MRP</th>\n",
              "      <th>Outlet_Identifier</th>\n",
              "      <th>Outlet_Establishment_Year</th>\n",
              "      <th>Outlet_Size</th>\n",
              "      <th>Outlet_Location_Type</th>\n",
              "      <th>Outlet_Type</th>\n",
              "      <th>Item_Outlet_Sales</th>\n",
              "    </tr>\n",
              "  </thead>\n",
              "  <tbody>\n",
              "    <tr>\n",
              "      <th>0</th>\n",
              "      <td>FDA15</td>\n",
              "      <td>9.300</td>\n",
              "      <td>Low Fat</td>\n",
              "      <td>0.016047</td>\n",
              "      <td>Dairy</td>\n",
              "      <td>249.8092</td>\n",
              "      <td>OUT049</td>\n",
              "      <td>1999</td>\n",
              "      <td>Medium</td>\n",
              "      <td>Tier 1</td>\n",
              "      <td>Supermarket Type1</td>\n",
              "      <td>3735.1380</td>\n",
              "    </tr>\n",
              "    <tr>\n",
              "      <th>1</th>\n",
              "      <td>DRC01</td>\n",
              "      <td>5.920</td>\n",
              "      <td>Regular</td>\n",
              "      <td>0.019278</td>\n",
              "      <td>Soft Drinks</td>\n",
              "      <td>48.2692</td>\n",
              "      <td>OUT018</td>\n",
              "      <td>2009</td>\n",
              "      <td>Medium</td>\n",
              "      <td>Tier 3</td>\n",
              "      <td>Supermarket Type2</td>\n",
              "      <td>443.4228</td>\n",
              "    </tr>\n",
              "    <tr>\n",
              "      <th>2</th>\n",
              "      <td>FDN15</td>\n",
              "      <td>17.500</td>\n",
              "      <td>Low Fat</td>\n",
              "      <td>0.016760</td>\n",
              "      <td>Meat</td>\n",
              "      <td>141.6180</td>\n",
              "      <td>OUT049</td>\n",
              "      <td>1999</td>\n",
              "      <td>Medium</td>\n",
              "      <td>Tier 1</td>\n",
              "      <td>Supermarket Type1</td>\n",
              "      <td>2097.2700</td>\n",
              "    </tr>\n",
              "    <tr>\n",
              "      <th>3</th>\n",
              "      <td>FDX07</td>\n",
              "      <td>19.200</td>\n",
              "      <td>Regular</td>\n",
              "      <td>0.000000</td>\n",
              "      <td>Fruits and Vegetables</td>\n",
              "      <td>182.0950</td>\n",
              "      <td>OUT010</td>\n",
              "      <td>1998</td>\n",
              "      <td>NaN</td>\n",
              "      <td>Tier 3</td>\n",
              "      <td>Grocery Store</td>\n",
              "      <td>732.3800</td>\n",
              "    </tr>\n",
              "    <tr>\n",
              "      <th>4</th>\n",
              "      <td>NCD19</td>\n",
              "      <td>8.930</td>\n",
              "      <td>Low Fat</td>\n",
              "      <td>0.000000</td>\n",
              "      <td>Household</td>\n",
              "      <td>53.8614</td>\n",
              "      <td>OUT013</td>\n",
              "      <td>1987</td>\n",
              "      <td>High</td>\n",
              "      <td>Tier 3</td>\n",
              "      <td>Supermarket Type1</td>\n",
              "      <td>994.7052</td>\n",
              "    </tr>\n",
              "    <tr>\n",
              "      <th>...</th>\n",
              "      <td>...</td>\n",
              "      <td>...</td>\n",
              "      <td>...</td>\n",
              "      <td>...</td>\n",
              "      <td>...</td>\n",
              "      <td>...</td>\n",
              "      <td>...</td>\n",
              "      <td>...</td>\n",
              "      <td>...</td>\n",
              "      <td>...</td>\n",
              "      <td>...</td>\n",
              "      <td>...</td>\n",
              "    </tr>\n",
              "    <tr>\n",
              "      <th>8518</th>\n",
              "      <td>FDF22</td>\n",
              "      <td>6.865</td>\n",
              "      <td>Low Fat</td>\n",
              "      <td>0.056783</td>\n",
              "      <td>Snack Foods</td>\n",
              "      <td>214.5218</td>\n",
              "      <td>OUT013</td>\n",
              "      <td>1987</td>\n",
              "      <td>High</td>\n",
              "      <td>Tier 3</td>\n",
              "      <td>Supermarket Type1</td>\n",
              "      <td>2778.3834</td>\n",
              "    </tr>\n",
              "    <tr>\n",
              "      <th>8519</th>\n",
              "      <td>FDS36</td>\n",
              "      <td>8.380</td>\n",
              "      <td>Regular</td>\n",
              "      <td>0.046982</td>\n",
              "      <td>Baking Goods</td>\n",
              "      <td>108.1570</td>\n",
              "      <td>OUT045</td>\n",
              "      <td>2002</td>\n",
              "      <td>NaN</td>\n",
              "      <td>Tier 2</td>\n",
              "      <td>Supermarket Type1</td>\n",
              "      <td>549.2850</td>\n",
              "    </tr>\n",
              "    <tr>\n",
              "      <th>8520</th>\n",
              "      <td>NCJ29</td>\n",
              "      <td>10.600</td>\n",
              "      <td>Low Fat</td>\n",
              "      <td>0.035186</td>\n",
              "      <td>Health and Hygiene</td>\n",
              "      <td>85.1224</td>\n",
              "      <td>OUT035</td>\n",
              "      <td>2004</td>\n",
              "      <td>Small</td>\n",
              "      <td>Tier 2</td>\n",
              "      <td>Supermarket Type1</td>\n",
              "      <td>1193.1136</td>\n",
              "    </tr>\n",
              "    <tr>\n",
              "      <th>8521</th>\n",
              "      <td>FDN46</td>\n",
              "      <td>7.210</td>\n",
              "      <td>Regular</td>\n",
              "      <td>0.145221</td>\n",
              "      <td>Snack Foods</td>\n",
              "      <td>103.1332</td>\n",
              "      <td>OUT018</td>\n",
              "      <td>2009</td>\n",
              "      <td>Medium</td>\n",
              "      <td>Tier 3</td>\n",
              "      <td>Supermarket Type2</td>\n",
              "      <td>1845.5976</td>\n",
              "    </tr>\n",
              "    <tr>\n",
              "      <th>8522</th>\n",
              "      <td>DRG01</td>\n",
              "      <td>14.800</td>\n",
              "      <td>Low Fat</td>\n",
              "      <td>0.044878</td>\n",
              "      <td>Soft Drinks</td>\n",
              "      <td>75.4670</td>\n",
              "      <td>OUT046</td>\n",
              "      <td>1997</td>\n",
              "      <td>Small</td>\n",
              "      <td>Tier 1</td>\n",
              "      <td>Supermarket Type1</td>\n",
              "      <td>765.6700</td>\n",
              "    </tr>\n",
              "  </tbody>\n",
              "</table>\n",
              "<p>8523 rows × 12 columns</p>\n",
              "</div>"
            ],
            "text/plain": [
              "     Item_Identifier  Item_Weight  ...        Outlet_Type  Item_Outlet_Sales\n",
              "0              FDA15        9.300  ...  Supermarket Type1          3735.1380\n",
              "1              DRC01        5.920  ...  Supermarket Type2           443.4228\n",
              "2              FDN15       17.500  ...  Supermarket Type1          2097.2700\n",
              "3              FDX07       19.200  ...      Grocery Store           732.3800\n",
              "4              NCD19        8.930  ...  Supermarket Type1           994.7052\n",
              "...              ...          ...  ...                ...                ...\n",
              "8518           FDF22        6.865  ...  Supermarket Type1          2778.3834\n",
              "8519           FDS36        8.380  ...  Supermarket Type1           549.2850\n",
              "8520           NCJ29       10.600  ...  Supermarket Type1          1193.1136\n",
              "8521           FDN46        7.210  ...  Supermarket Type2          1845.5976\n",
              "8522           DRG01       14.800  ...  Supermarket Type1           765.6700\n",
              "\n",
              "[8523 rows x 12 columns]"
            ]
          },
          "metadata": {
            "tags": []
          },
          "execution_count": 989
        }
      ]
    },
    {
      "cell_type": "code",
      "metadata": {
        "id": "BBI8Ctb0j1QL",
        "colab_type": "code",
        "colab": {
          "base_uri": "https://localhost:8080/",
          "height": 34
        },
        "outputId": "f8e0f43e-ec11-449a-a772-5528e59dfb59"
      },
      "source": [
        "df_train.shape"
      ],
      "execution_count": 990,
      "outputs": [
        {
          "output_type": "execute_result",
          "data": {
            "text/plain": [
              "(8523, 12)"
            ]
          },
          "metadata": {
            "tags": []
          },
          "execution_count": 990
        }
      ]
    },
    {
      "cell_type": "code",
      "metadata": {
        "id": "b1V1XMg6oObx",
        "colab_type": "code",
        "colab": {
          "base_uri": "https://localhost:8080/",
          "height": 340
        },
        "outputId": "a2b3912b-b12b-46e9-c6ff-b2f9bcb8ed2d"
      },
      "source": [
        "df_train.info()"
      ],
      "execution_count": 991,
      "outputs": [
        {
          "output_type": "stream",
          "text": [
            "<class 'pandas.core.frame.DataFrame'>\n",
            "RangeIndex: 8523 entries, 0 to 8522\n",
            "Data columns (total 12 columns):\n",
            " #   Column                     Non-Null Count  Dtype  \n",
            "---  ------                     --------------  -----  \n",
            " 0   Item_Identifier            8523 non-null   object \n",
            " 1   Item_Weight                7060 non-null   float64\n",
            " 2   Item_Fat_Content           8523 non-null   object \n",
            " 3   Item_Visibility            8523 non-null   float64\n",
            " 4   Item_Type                  8523 non-null   object \n",
            " 5   Item_MRP                   8523 non-null   float64\n",
            " 6   Outlet_Identifier          8523 non-null   object \n",
            " 7   Outlet_Establishment_Year  8523 non-null   int64  \n",
            " 8   Outlet_Size                6113 non-null   object \n",
            " 9   Outlet_Location_Type       8523 non-null   object \n",
            " 10  Outlet_Type                8523 non-null   object \n",
            " 11  Item_Outlet_Sales          8523 non-null   float64\n",
            "dtypes: float64(4), int64(1), object(7)\n",
            "memory usage: 799.2+ KB\n"
          ],
          "name": "stdout"
        }
      ]
    },
    {
      "cell_type": "code",
      "metadata": {
        "id": "W0j22EudkHTK",
        "colab_type": "code",
        "colab": {
          "base_uri": "https://localhost:8080/",
          "height": 297
        },
        "outputId": "2e5ec007-bf98-48f6-b15a-d0c7ab19c8c1"
      },
      "source": [
        "df_train.describe()"
      ],
      "execution_count": 992,
      "outputs": [
        {
          "output_type": "execute_result",
          "data": {
            "text/html": [
              "<div>\n",
              "<style scoped>\n",
              "    .dataframe tbody tr th:only-of-type {\n",
              "        vertical-align: middle;\n",
              "    }\n",
              "\n",
              "    .dataframe tbody tr th {\n",
              "        vertical-align: top;\n",
              "    }\n",
              "\n",
              "    .dataframe thead th {\n",
              "        text-align: right;\n",
              "    }\n",
              "</style>\n",
              "<table border=\"1\" class=\"dataframe\">\n",
              "  <thead>\n",
              "    <tr style=\"text-align: right;\">\n",
              "      <th></th>\n",
              "      <th>Item_Weight</th>\n",
              "      <th>Item_Visibility</th>\n",
              "      <th>Item_MRP</th>\n",
              "      <th>Outlet_Establishment_Year</th>\n",
              "      <th>Item_Outlet_Sales</th>\n",
              "    </tr>\n",
              "  </thead>\n",
              "  <tbody>\n",
              "    <tr>\n",
              "      <th>count</th>\n",
              "      <td>7060.000000</td>\n",
              "      <td>8523.000000</td>\n",
              "      <td>8523.000000</td>\n",
              "      <td>8523.000000</td>\n",
              "      <td>8523.000000</td>\n",
              "    </tr>\n",
              "    <tr>\n",
              "      <th>mean</th>\n",
              "      <td>12.857645</td>\n",
              "      <td>0.066132</td>\n",
              "      <td>140.992782</td>\n",
              "      <td>1997.831867</td>\n",
              "      <td>2181.288914</td>\n",
              "    </tr>\n",
              "    <tr>\n",
              "      <th>std</th>\n",
              "      <td>4.643456</td>\n",
              "      <td>0.051598</td>\n",
              "      <td>62.275067</td>\n",
              "      <td>8.371760</td>\n",
              "      <td>1706.499616</td>\n",
              "    </tr>\n",
              "    <tr>\n",
              "      <th>min</th>\n",
              "      <td>4.555000</td>\n",
              "      <td>0.000000</td>\n",
              "      <td>31.290000</td>\n",
              "      <td>1985.000000</td>\n",
              "      <td>33.290000</td>\n",
              "    </tr>\n",
              "    <tr>\n",
              "      <th>25%</th>\n",
              "      <td>8.773750</td>\n",
              "      <td>0.026989</td>\n",
              "      <td>93.826500</td>\n",
              "      <td>1987.000000</td>\n",
              "      <td>834.247400</td>\n",
              "    </tr>\n",
              "    <tr>\n",
              "      <th>50%</th>\n",
              "      <td>12.600000</td>\n",
              "      <td>0.053931</td>\n",
              "      <td>143.012800</td>\n",
              "      <td>1999.000000</td>\n",
              "      <td>1794.331000</td>\n",
              "    </tr>\n",
              "    <tr>\n",
              "      <th>75%</th>\n",
              "      <td>16.850000</td>\n",
              "      <td>0.094585</td>\n",
              "      <td>185.643700</td>\n",
              "      <td>2004.000000</td>\n",
              "      <td>3101.296400</td>\n",
              "    </tr>\n",
              "    <tr>\n",
              "      <th>max</th>\n",
              "      <td>21.350000</td>\n",
              "      <td>0.328391</td>\n",
              "      <td>266.888400</td>\n",
              "      <td>2009.000000</td>\n",
              "      <td>13086.964800</td>\n",
              "    </tr>\n",
              "  </tbody>\n",
              "</table>\n",
              "</div>"
            ],
            "text/plain": [
              "       Item_Weight  ...  Item_Outlet_Sales\n",
              "count  7060.000000  ...        8523.000000\n",
              "mean     12.857645  ...        2181.288914\n",
              "std       4.643456  ...        1706.499616\n",
              "min       4.555000  ...          33.290000\n",
              "25%       8.773750  ...         834.247400\n",
              "50%      12.600000  ...        1794.331000\n",
              "75%      16.850000  ...        3101.296400\n",
              "max      21.350000  ...       13086.964800\n",
              "\n",
              "[8 rows x 5 columns]"
            ]
          },
          "metadata": {
            "tags": []
          },
          "execution_count": 992
        }
      ]
    },
    {
      "cell_type": "code",
      "metadata": {
        "id": "EMwZ2fGWJqmk",
        "colab_type": "code",
        "colab": {
          "base_uri": "https://localhost:8080/",
          "height": 592
        },
        "outputId": "763a7c1e-8afa-470b-db16-fca187b953a7"
      },
      "source": [
        "#Load datasets\n",
        "df_test=pd.read_csv(\"https://datahack-prod.s3.amazonaws.com/test_file/test_AbJTz2l.csv\")\n",
        "df_test"
      ],
      "execution_count": 993,
      "outputs": [
        {
          "output_type": "execute_result",
          "data": {
            "text/html": [
              "<div>\n",
              "<style scoped>\n",
              "    .dataframe tbody tr th:only-of-type {\n",
              "        vertical-align: middle;\n",
              "    }\n",
              "\n",
              "    .dataframe tbody tr th {\n",
              "        vertical-align: top;\n",
              "    }\n",
              "\n",
              "    .dataframe thead th {\n",
              "        text-align: right;\n",
              "    }\n",
              "</style>\n",
              "<table border=\"1\" class=\"dataframe\">\n",
              "  <thead>\n",
              "    <tr style=\"text-align: right;\">\n",
              "      <th></th>\n",
              "      <th>Item_Identifier</th>\n",
              "      <th>Item_Weight</th>\n",
              "      <th>Item_Fat_Content</th>\n",
              "      <th>Item_Visibility</th>\n",
              "      <th>Item_Type</th>\n",
              "      <th>Item_MRP</th>\n",
              "      <th>Outlet_Identifier</th>\n",
              "      <th>Outlet_Establishment_Year</th>\n",
              "      <th>Outlet_Size</th>\n",
              "      <th>Outlet_Location_Type</th>\n",
              "      <th>Outlet_Type</th>\n",
              "    </tr>\n",
              "  </thead>\n",
              "  <tbody>\n",
              "    <tr>\n",
              "      <th>0</th>\n",
              "      <td>FDW58</td>\n",
              "      <td>20.750</td>\n",
              "      <td>Low Fat</td>\n",
              "      <td>0.007565</td>\n",
              "      <td>Snack Foods</td>\n",
              "      <td>107.8622</td>\n",
              "      <td>OUT049</td>\n",
              "      <td>1999</td>\n",
              "      <td>Medium</td>\n",
              "      <td>Tier 1</td>\n",
              "      <td>Supermarket Type1</td>\n",
              "    </tr>\n",
              "    <tr>\n",
              "      <th>1</th>\n",
              "      <td>FDW14</td>\n",
              "      <td>8.300</td>\n",
              "      <td>reg</td>\n",
              "      <td>0.038428</td>\n",
              "      <td>Dairy</td>\n",
              "      <td>87.3198</td>\n",
              "      <td>OUT017</td>\n",
              "      <td>2007</td>\n",
              "      <td>NaN</td>\n",
              "      <td>Tier 2</td>\n",
              "      <td>Supermarket Type1</td>\n",
              "    </tr>\n",
              "    <tr>\n",
              "      <th>2</th>\n",
              "      <td>NCN55</td>\n",
              "      <td>14.600</td>\n",
              "      <td>Low Fat</td>\n",
              "      <td>0.099575</td>\n",
              "      <td>Others</td>\n",
              "      <td>241.7538</td>\n",
              "      <td>OUT010</td>\n",
              "      <td>1998</td>\n",
              "      <td>NaN</td>\n",
              "      <td>Tier 3</td>\n",
              "      <td>Grocery Store</td>\n",
              "    </tr>\n",
              "    <tr>\n",
              "      <th>3</th>\n",
              "      <td>FDQ58</td>\n",
              "      <td>7.315</td>\n",
              "      <td>Low Fat</td>\n",
              "      <td>0.015388</td>\n",
              "      <td>Snack Foods</td>\n",
              "      <td>155.0340</td>\n",
              "      <td>OUT017</td>\n",
              "      <td>2007</td>\n",
              "      <td>NaN</td>\n",
              "      <td>Tier 2</td>\n",
              "      <td>Supermarket Type1</td>\n",
              "    </tr>\n",
              "    <tr>\n",
              "      <th>4</th>\n",
              "      <td>FDY38</td>\n",
              "      <td>NaN</td>\n",
              "      <td>Regular</td>\n",
              "      <td>0.118599</td>\n",
              "      <td>Dairy</td>\n",
              "      <td>234.2300</td>\n",
              "      <td>OUT027</td>\n",
              "      <td>1985</td>\n",
              "      <td>Medium</td>\n",
              "      <td>Tier 3</td>\n",
              "      <td>Supermarket Type3</td>\n",
              "    </tr>\n",
              "    <tr>\n",
              "      <th>...</th>\n",
              "      <td>...</td>\n",
              "      <td>...</td>\n",
              "      <td>...</td>\n",
              "      <td>...</td>\n",
              "      <td>...</td>\n",
              "      <td>...</td>\n",
              "      <td>...</td>\n",
              "      <td>...</td>\n",
              "      <td>...</td>\n",
              "      <td>...</td>\n",
              "      <td>...</td>\n",
              "    </tr>\n",
              "    <tr>\n",
              "      <th>5676</th>\n",
              "      <td>FDB58</td>\n",
              "      <td>10.500</td>\n",
              "      <td>Regular</td>\n",
              "      <td>0.013496</td>\n",
              "      <td>Snack Foods</td>\n",
              "      <td>141.3154</td>\n",
              "      <td>OUT046</td>\n",
              "      <td>1997</td>\n",
              "      <td>Small</td>\n",
              "      <td>Tier 1</td>\n",
              "      <td>Supermarket Type1</td>\n",
              "    </tr>\n",
              "    <tr>\n",
              "      <th>5677</th>\n",
              "      <td>FDD47</td>\n",
              "      <td>7.600</td>\n",
              "      <td>Regular</td>\n",
              "      <td>0.142991</td>\n",
              "      <td>Starchy Foods</td>\n",
              "      <td>169.1448</td>\n",
              "      <td>OUT018</td>\n",
              "      <td>2009</td>\n",
              "      <td>Medium</td>\n",
              "      <td>Tier 3</td>\n",
              "      <td>Supermarket Type2</td>\n",
              "    </tr>\n",
              "    <tr>\n",
              "      <th>5678</th>\n",
              "      <td>NCO17</td>\n",
              "      <td>10.000</td>\n",
              "      <td>Low Fat</td>\n",
              "      <td>0.073529</td>\n",
              "      <td>Health and Hygiene</td>\n",
              "      <td>118.7440</td>\n",
              "      <td>OUT045</td>\n",
              "      <td>2002</td>\n",
              "      <td>NaN</td>\n",
              "      <td>Tier 2</td>\n",
              "      <td>Supermarket Type1</td>\n",
              "    </tr>\n",
              "    <tr>\n",
              "      <th>5679</th>\n",
              "      <td>FDJ26</td>\n",
              "      <td>15.300</td>\n",
              "      <td>Regular</td>\n",
              "      <td>0.000000</td>\n",
              "      <td>Canned</td>\n",
              "      <td>214.6218</td>\n",
              "      <td>OUT017</td>\n",
              "      <td>2007</td>\n",
              "      <td>NaN</td>\n",
              "      <td>Tier 2</td>\n",
              "      <td>Supermarket Type1</td>\n",
              "    </tr>\n",
              "    <tr>\n",
              "      <th>5680</th>\n",
              "      <td>FDU37</td>\n",
              "      <td>9.500</td>\n",
              "      <td>Regular</td>\n",
              "      <td>0.104720</td>\n",
              "      <td>Canned</td>\n",
              "      <td>79.7960</td>\n",
              "      <td>OUT045</td>\n",
              "      <td>2002</td>\n",
              "      <td>NaN</td>\n",
              "      <td>Tier 2</td>\n",
              "      <td>Supermarket Type1</td>\n",
              "    </tr>\n",
              "  </tbody>\n",
              "</table>\n",
              "<p>5681 rows × 11 columns</p>\n",
              "</div>"
            ],
            "text/plain": [
              "     Item_Identifier  Item_Weight  ... Outlet_Location_Type        Outlet_Type\n",
              "0              FDW58       20.750  ...               Tier 1  Supermarket Type1\n",
              "1              FDW14        8.300  ...               Tier 2  Supermarket Type1\n",
              "2              NCN55       14.600  ...               Tier 3      Grocery Store\n",
              "3              FDQ58        7.315  ...               Tier 2  Supermarket Type1\n",
              "4              FDY38          NaN  ...               Tier 3  Supermarket Type3\n",
              "...              ...          ...  ...                  ...                ...\n",
              "5676           FDB58       10.500  ...               Tier 1  Supermarket Type1\n",
              "5677           FDD47        7.600  ...               Tier 3  Supermarket Type2\n",
              "5678           NCO17       10.000  ...               Tier 2  Supermarket Type1\n",
              "5679           FDJ26       15.300  ...               Tier 2  Supermarket Type1\n",
              "5680           FDU37        9.500  ...               Tier 2  Supermarket Type1\n",
              "\n",
              "[5681 rows x 11 columns]"
            ]
          },
          "metadata": {
            "tags": []
          },
          "execution_count": 993
        }
      ]
    },
    {
      "cell_type": "code",
      "metadata": {
        "id": "w8aoBt1cJ29z",
        "colab_type": "code",
        "colab": {
          "base_uri": "https://localhost:8080/",
          "height": 34
        },
        "outputId": "1d1ab7e9-d673-4e55-f57e-92f5ecc40bf1"
      },
      "source": [
        "df_test.shape"
      ],
      "execution_count": 994,
      "outputs": [
        {
          "output_type": "execute_result",
          "data": {
            "text/plain": [
              "(5681, 11)"
            ]
          },
          "metadata": {
            "tags": []
          },
          "execution_count": 994
        }
      ]
    },
    {
      "cell_type": "code",
      "metadata": {
        "id": "XhtiZvSCKFcb",
        "colab_type": "code",
        "colab": {
          "base_uri": "https://localhost:8080/",
          "height": 323
        },
        "outputId": "9974d228-21ce-4915-bda7-0547d969d903"
      },
      "source": [
        "df_test.info()"
      ],
      "execution_count": 995,
      "outputs": [
        {
          "output_type": "stream",
          "text": [
            "<class 'pandas.core.frame.DataFrame'>\n",
            "RangeIndex: 5681 entries, 0 to 5680\n",
            "Data columns (total 11 columns):\n",
            " #   Column                     Non-Null Count  Dtype  \n",
            "---  ------                     --------------  -----  \n",
            " 0   Item_Identifier            5681 non-null   object \n",
            " 1   Item_Weight                4705 non-null   float64\n",
            " 2   Item_Fat_Content           5681 non-null   object \n",
            " 3   Item_Visibility            5681 non-null   float64\n",
            " 4   Item_Type                  5681 non-null   object \n",
            " 5   Item_MRP                   5681 non-null   float64\n",
            " 6   Outlet_Identifier          5681 non-null   object \n",
            " 7   Outlet_Establishment_Year  5681 non-null   int64  \n",
            " 8   Outlet_Size                4075 non-null   object \n",
            " 9   Outlet_Location_Type       5681 non-null   object \n",
            " 10  Outlet_Type                5681 non-null   object \n",
            "dtypes: float64(3), int64(1), object(7)\n",
            "memory usage: 488.3+ KB\n"
          ],
          "name": "stdout"
        }
      ]
    },
    {
      "cell_type": "code",
      "metadata": {
        "id": "wtuy4hjiKfZT",
        "colab_type": "code",
        "colab": {
          "base_uri": "https://localhost:8080/",
          "height": 297
        },
        "outputId": "a235ea43-98a1-4864-a7cc-1acebebcdd21"
      },
      "source": [
        "df_test.describe()"
      ],
      "execution_count": 996,
      "outputs": [
        {
          "output_type": "execute_result",
          "data": {
            "text/html": [
              "<div>\n",
              "<style scoped>\n",
              "    .dataframe tbody tr th:only-of-type {\n",
              "        vertical-align: middle;\n",
              "    }\n",
              "\n",
              "    .dataframe tbody tr th {\n",
              "        vertical-align: top;\n",
              "    }\n",
              "\n",
              "    .dataframe thead th {\n",
              "        text-align: right;\n",
              "    }\n",
              "</style>\n",
              "<table border=\"1\" class=\"dataframe\">\n",
              "  <thead>\n",
              "    <tr style=\"text-align: right;\">\n",
              "      <th></th>\n",
              "      <th>Item_Weight</th>\n",
              "      <th>Item_Visibility</th>\n",
              "      <th>Item_MRP</th>\n",
              "      <th>Outlet_Establishment_Year</th>\n",
              "    </tr>\n",
              "  </thead>\n",
              "  <tbody>\n",
              "    <tr>\n",
              "      <th>count</th>\n",
              "      <td>4705.000000</td>\n",
              "      <td>5681.000000</td>\n",
              "      <td>5681.000000</td>\n",
              "      <td>5681.000000</td>\n",
              "    </tr>\n",
              "    <tr>\n",
              "      <th>mean</th>\n",
              "      <td>12.695633</td>\n",
              "      <td>0.065684</td>\n",
              "      <td>141.023273</td>\n",
              "      <td>1997.828903</td>\n",
              "    </tr>\n",
              "    <tr>\n",
              "      <th>std</th>\n",
              "      <td>4.664849</td>\n",
              "      <td>0.051252</td>\n",
              "      <td>61.809091</td>\n",
              "      <td>8.372256</td>\n",
              "    </tr>\n",
              "    <tr>\n",
              "      <th>min</th>\n",
              "      <td>4.555000</td>\n",
              "      <td>0.000000</td>\n",
              "      <td>31.990000</td>\n",
              "      <td>1985.000000</td>\n",
              "    </tr>\n",
              "    <tr>\n",
              "      <th>25%</th>\n",
              "      <td>8.645000</td>\n",
              "      <td>0.027047</td>\n",
              "      <td>94.412000</td>\n",
              "      <td>1987.000000</td>\n",
              "    </tr>\n",
              "    <tr>\n",
              "      <th>50%</th>\n",
              "      <td>12.500000</td>\n",
              "      <td>0.054154</td>\n",
              "      <td>141.415400</td>\n",
              "      <td>1999.000000</td>\n",
              "    </tr>\n",
              "    <tr>\n",
              "      <th>75%</th>\n",
              "      <td>16.700000</td>\n",
              "      <td>0.093463</td>\n",
              "      <td>186.026600</td>\n",
              "      <td>2004.000000</td>\n",
              "    </tr>\n",
              "    <tr>\n",
              "      <th>max</th>\n",
              "      <td>21.350000</td>\n",
              "      <td>0.323637</td>\n",
              "      <td>266.588400</td>\n",
              "      <td>2009.000000</td>\n",
              "    </tr>\n",
              "  </tbody>\n",
              "</table>\n",
              "</div>"
            ],
            "text/plain": [
              "       Item_Weight  Item_Visibility     Item_MRP  Outlet_Establishment_Year\n",
              "count  4705.000000      5681.000000  5681.000000                5681.000000\n",
              "mean     12.695633         0.065684   141.023273                1997.828903\n",
              "std       4.664849         0.051252    61.809091                   8.372256\n",
              "min       4.555000         0.000000    31.990000                1985.000000\n",
              "25%       8.645000         0.027047    94.412000                1987.000000\n",
              "50%      12.500000         0.054154   141.415400                1999.000000\n",
              "75%      16.700000         0.093463   186.026600                2004.000000\n",
              "max      21.350000         0.323637   266.588400                2009.000000"
            ]
          },
          "metadata": {
            "tags": []
          },
          "execution_count": 996
        }
      ]
    },
    {
      "cell_type": "code",
      "metadata": {
        "id": "5ZyKYdtbRbGZ",
        "colab_type": "code",
        "colab": {
          "base_uri": "https://localhost:8080/",
          "height": 493
        },
        "outputId": "b47a412f-e92b-4f24-bf98-9777122a5f9d"
      },
      "source": [
        "# Display vars that have 1 or more missing data points\n",
        "print('Training Data:')\n",
        "print(df_train.isnull().sum().sort_values(ascending=False).head(20))# display top categories with missing data\n",
        "print('---------------------------')\n",
        "print('Test Data:')\n",
        "print(df_test.isnull().sum().sort_values(ascending=False).head(35)) # check in Test data too so you don't build model around vars that don't exist"
      ],
      "execution_count": 997,
      "outputs": [
        {
          "output_type": "stream",
          "text": [
            "Training Data:\n",
            "Outlet_Size                  2410\n",
            "Item_Weight                  1463\n",
            "Item_Outlet_Sales               0\n",
            "Outlet_Type                     0\n",
            "Outlet_Location_Type            0\n",
            "Outlet_Establishment_Year       0\n",
            "Outlet_Identifier               0\n",
            "Item_MRP                        0\n",
            "Item_Type                       0\n",
            "Item_Visibility                 0\n",
            "Item_Fat_Content                0\n",
            "Item_Identifier                 0\n",
            "dtype: int64\n",
            "---------------------------\n",
            "Test Data:\n",
            "Outlet_Size                  1606\n",
            "Item_Weight                   976\n",
            "Outlet_Type                     0\n",
            "Outlet_Location_Type            0\n",
            "Outlet_Establishment_Year       0\n",
            "Outlet_Identifier               0\n",
            "Item_MRP                        0\n",
            "Item_Type                       0\n",
            "Item_Visibility                 0\n",
            "Item_Fat_Content                0\n",
            "Item_Identifier                 0\n",
            "dtype: int64\n"
          ],
          "name": "stdout"
        }
      ]
    },
    {
      "cell_type": "code",
      "metadata": {
        "id": "riaaEZ9PL4oW",
        "colab_type": "code",
        "colab": {}
      },
      "source": [
        "# fill up missing values with mode\n",
        "df_train['Outlet_Size'] = df_train['Outlet_Size'].fillna(df_train['Outlet_Size'].mode()[0])\n",
        "df_test['Outlet_Size'] = df_test['Outlet_Size'].fillna(df_test['Outlet_Size'].mode()[0])\n",
        "\n",
        "df_train['Item_Weight'] = df_train['Item_Weight'].fillna(df_train['Item_Weight'].mode()[0])\n",
        "df_test['Item_Weight'] = df_test['Item_Weight'].fillna(df_test['Item_Weight'].mode()[0])"
      ],
      "execution_count": 998,
      "outputs": []
    },
    {
      "cell_type": "code",
      "metadata": {
        "id": "ERKex2DrMUNv",
        "colab_type": "code",
        "colab": {
          "base_uri": "https://localhost:8080/",
          "height": 34
        },
        "outputId": "d7d3c583-b307-4729-f2ec-9ceace3ce635"
      },
      "source": [
        "df_train.isnull().sum().sum(), df_test.isnull().sum().sum()"
      ],
      "execution_count": 999,
      "outputs": [
        {
          "output_type": "execute_result",
          "data": {
            "text/plain": [
              "(0, 0)"
            ]
          },
          "metadata": {
            "tags": []
          },
          "execution_count": 999
        }
      ]
    },
    {
      "cell_type": "code",
      "metadata": {
        "id": "fG6HilmRMXcg",
        "colab_type": "code",
        "colab": {
          "base_uri": "https://localhost:8080/",
          "height": 419
        },
        "outputId": "b430875a-ec1b-4fd1-bb00-7f9158f7a004"
      },
      "source": [
        "weight=df_train.groupby('Item_Weight')['Item_Outlet_Sales'].sum().reset_index()\n",
        "weight"
      ],
      "execution_count": 1000,
      "outputs": [
        {
          "output_type": "execute_result",
          "data": {
            "text/html": [
              "<div>\n",
              "<style scoped>\n",
              "    .dataframe tbody tr th:only-of-type {\n",
              "        vertical-align: middle;\n",
              "    }\n",
              "\n",
              "    .dataframe tbody tr th {\n",
              "        vertical-align: top;\n",
              "    }\n",
              "\n",
              "    .dataframe thead th {\n",
              "        text-align: right;\n",
              "    }\n",
              "</style>\n",
              "<table border=\"1\" class=\"dataframe\">\n",
              "  <thead>\n",
              "    <tr style=\"text-align: right;\">\n",
              "      <th></th>\n",
              "      <th>Item_Weight</th>\n",
              "      <th>Item_Outlet_Sales</th>\n",
              "    </tr>\n",
              "  </thead>\n",
              "  <tbody>\n",
              "    <tr>\n",
              "      <th>0</th>\n",
              "      <td>4.555</td>\n",
              "      <td>7046.8272</td>\n",
              "    </tr>\n",
              "    <tr>\n",
              "      <th>1</th>\n",
              "      <td>4.590</td>\n",
              "      <td>6338.4160</td>\n",
              "    </tr>\n",
              "    <tr>\n",
              "      <th>2</th>\n",
              "      <td>4.610</td>\n",
              "      <td>13955.1680</td>\n",
              "    </tr>\n",
              "    <tr>\n",
              "      <th>3</th>\n",
              "      <td>4.615</td>\n",
              "      <td>16312.1000</td>\n",
              "    </tr>\n",
              "    <tr>\n",
              "      <th>4</th>\n",
              "      <td>4.635</td>\n",
              "      <td>10922.4490</td>\n",
              "    </tr>\n",
              "    <tr>\n",
              "      <th>...</th>\n",
              "      <td>...</td>\n",
              "      <td>...</td>\n",
              "    </tr>\n",
              "    <tr>\n",
              "      <th>410</th>\n",
              "      <td>21.000</td>\n",
              "      <td>7168.6686</td>\n",
              "    </tr>\n",
              "    <tr>\n",
              "      <th>411</th>\n",
              "      <td>21.100</td>\n",
              "      <td>31475.0292</td>\n",
              "    </tr>\n",
              "    <tr>\n",
              "      <th>412</th>\n",
              "      <td>21.200</td>\n",
              "      <td>13818.6790</td>\n",
              "    </tr>\n",
              "    <tr>\n",
              "      <th>413</th>\n",
              "      <td>21.250</td>\n",
              "      <td>52780.6292</td>\n",
              "    </tr>\n",
              "    <tr>\n",
              "      <th>414</th>\n",
              "      <td>21.350</td>\n",
              "      <td>23740.4306</td>\n",
              "    </tr>\n",
              "  </tbody>\n",
              "</table>\n",
              "<p>415 rows × 2 columns</p>\n",
              "</div>"
            ],
            "text/plain": [
              "     Item_Weight  Item_Outlet_Sales\n",
              "0          4.555          7046.8272\n",
              "1          4.590          6338.4160\n",
              "2          4.610         13955.1680\n",
              "3          4.615         16312.1000\n",
              "4          4.635         10922.4490\n",
              "..           ...                ...\n",
              "410       21.000          7168.6686\n",
              "411       21.100         31475.0292\n",
              "412       21.200         13818.6790\n",
              "413       21.250         52780.6292\n",
              "414       21.350         23740.4306\n",
              "\n",
              "[415 rows x 2 columns]"
            ]
          },
          "metadata": {
            "tags": []
          },
          "execution_count": 1000
        }
      ]
    },
    {
      "cell_type": "code",
      "metadata": {
        "id": "kVZn5hEzLRfx",
        "colab_type": "code",
        "colab": {
          "base_uri": "https://localhost:8080/",
          "height": 34
        },
        "outputId": "ca853738-5c43-4e3d-8624-bf7294ebb569"
      },
      "source": [
        "df_train.Item_Weight.isnull().sum().sum(), df_test.Item_Weight.isnull().sum().sum()"
      ],
      "execution_count": 1001,
      "outputs": [
        {
          "output_type": "execute_result",
          "data": {
            "text/plain": [
              "(0, 0)"
            ]
          },
          "metadata": {
            "tags": []
          },
          "execution_count": 1001
        }
      ]
    },
    {
      "cell_type": "code",
      "metadata": {
        "id": "Zc3iz1m8LQm3",
        "colab_type": "code",
        "colab": {}
      },
      "source": [
        ""
      ],
      "execution_count": 1001,
      "outputs": []
    },
    {
      "cell_type": "code",
      "metadata": {
        "id": "rlbTyz93Ri1C",
        "colab_type": "code",
        "colab": {
          "base_uri": "https://localhost:8080/",
          "height": 204
        },
        "outputId": "f48de0bc-3e58-465a-805c-a7be3cc7f976"
      },
      "source": [
        "fat=df_train.groupby('Item_Fat_Content')['Item_Outlet_Sales'].sum().reset_index()\n",
        "fat"
      ],
      "execution_count": 1002,
      "outputs": [
        {
          "output_type": "execute_result",
          "data": {
            "text/html": [
              "<div>\n",
              "<style scoped>\n",
              "    .dataframe tbody tr th:only-of-type {\n",
              "        vertical-align: middle;\n",
              "    }\n",
              "\n",
              "    .dataframe tbody tr th {\n",
              "        vertical-align: top;\n",
              "    }\n",
              "\n",
              "    .dataframe thead th {\n",
              "        text-align: right;\n",
              "    }\n",
              "</style>\n",
              "<table border=\"1\" class=\"dataframe\">\n",
              "  <thead>\n",
              "    <tr style=\"text-align: right;\">\n",
              "      <th></th>\n",
              "      <th>Item_Fat_Content</th>\n",
              "      <th>Item_Outlet_Sales</th>\n",
              "    </tr>\n",
              "  </thead>\n",
              "  <tbody>\n",
              "    <tr>\n",
              "      <th>0</th>\n",
              "      <td>LF</td>\n",
              "      <td>6.552424e+05</td>\n",
              "    </tr>\n",
              "    <tr>\n",
              "      <th>1</th>\n",
              "      <td>Low Fat</td>\n",
              "      <td>1.101503e+07</td>\n",
              "    </tr>\n",
              "    <tr>\n",
              "      <th>2</th>\n",
              "      <td>Regular</td>\n",
              "      <td>6.457454e+06</td>\n",
              "    </tr>\n",
              "    <tr>\n",
              "      <th>3</th>\n",
              "      <td>low fat</td>\n",
              "      <td>2.338270e+05</td>\n",
              "    </tr>\n",
              "    <tr>\n",
              "      <th>4</th>\n",
              "      <td>reg</td>\n",
              "      <td>2.295765e+05</td>\n",
              "    </tr>\n",
              "  </tbody>\n",
              "</table>\n",
              "</div>"
            ],
            "text/plain": [
              "  Item_Fat_Content  Item_Outlet_Sales\n",
              "0               LF       6.552424e+05\n",
              "1          Low Fat       1.101503e+07\n",
              "2          Regular       6.457454e+06\n",
              "3          low fat       2.338270e+05\n",
              "4              reg       2.295765e+05"
            ]
          },
          "metadata": {
            "tags": []
          },
          "execution_count": 1002
        }
      ]
    },
    {
      "cell_type": "code",
      "metadata": {
        "id": "_Obd7CR6R2aa",
        "colab_type": "code",
        "colab": {}
      },
      "source": [
        "fat1={'LF':0, 'Low Fat':0, 'low fat':0,'Regular':1,'reg':1 }\n",
        "df_train.Item_Fat_Content=df_train.Item_Fat_Content.map(fat1)\n",
        "df_test.Item_Fat_Content=df_test.Item_Fat_Content.map(fat1)"
      ],
      "execution_count": 1003,
      "outputs": []
    },
    {
      "cell_type": "code",
      "metadata": {
        "id": "UHA5_ZgiK9y9",
        "colab_type": "code",
        "colab": {
          "base_uri": "https://localhost:8080/",
          "height": 111
        },
        "outputId": "bc935974-68a1-480a-8202-767eac81130a"
      },
      "source": [
        "fat2=df_train.groupby('Item_Fat_Content')['Item_Outlet_Sales'].sum().reset_index()\n",
        "fat2"
      ],
      "execution_count": 1004,
      "outputs": [
        {
          "output_type": "execute_result",
          "data": {
            "text/html": [
              "<div>\n",
              "<style scoped>\n",
              "    .dataframe tbody tr th:only-of-type {\n",
              "        vertical-align: middle;\n",
              "    }\n",
              "\n",
              "    .dataframe tbody tr th {\n",
              "        vertical-align: top;\n",
              "    }\n",
              "\n",
              "    .dataframe thead th {\n",
              "        text-align: right;\n",
              "    }\n",
              "</style>\n",
              "<table border=\"1\" class=\"dataframe\">\n",
              "  <thead>\n",
              "    <tr style=\"text-align: right;\">\n",
              "      <th></th>\n",
              "      <th>Item_Fat_Content</th>\n",
              "      <th>Item_Outlet_Sales</th>\n",
              "    </tr>\n",
              "  </thead>\n",
              "  <tbody>\n",
              "    <tr>\n",
              "      <th>0</th>\n",
              "      <td>0</td>\n",
              "      <td>1.190409e+07</td>\n",
              "    </tr>\n",
              "    <tr>\n",
              "      <th>1</th>\n",
              "      <td>1</td>\n",
              "      <td>6.687031e+06</td>\n",
              "    </tr>\n",
              "  </tbody>\n",
              "</table>\n",
              "</div>"
            ],
            "text/plain": [
              "   Item_Fat_Content  Item_Outlet_Sales\n",
              "0                 0       1.190409e+07\n",
              "1                 1       6.687031e+06"
            ]
          },
          "metadata": {
            "tags": []
          },
          "execution_count": 1004
        }
      ]
    },
    {
      "cell_type": "code",
      "metadata": {
        "id": "Dgw2Zgq8R96l",
        "colab_type": "code",
        "colab": {
          "base_uri": "https://localhost:8080/",
          "height": 34
        },
        "outputId": "19467ad5-9ebe-4cd0-91a1-5a37f4eab335"
      },
      "source": [
        "df_train.Item_Fat_Content.isnull().sum().sum(), df_test.Item_Fat_Content.isnull().sum().sum()"
      ],
      "execution_count": 1005,
      "outputs": [
        {
          "output_type": "execute_result",
          "data": {
            "text/plain": [
              "(0, 0)"
            ]
          },
          "metadata": {
            "tags": []
          },
          "execution_count": 1005
        }
      ]
    },
    {
      "cell_type": "code",
      "metadata": {
        "id": "QPd1CL-tSHPR",
        "colab_type": "code",
        "colab": {
          "base_uri": "https://localhost:8080/",
          "height": 419
        },
        "outputId": "d13f22db-0a45-4da3-84db-2af0221d3a70"
      },
      "source": [
        "vis=df_train.groupby('Item_Visibility')['Item_Outlet_Sales'].sum().reset_index()\n",
        "vis"
      ],
      "execution_count": 1006,
      "outputs": [
        {
          "output_type": "execute_result",
          "data": {
            "text/html": [
              "<div>\n",
              "<style scoped>\n",
              "    .dataframe tbody tr th:only-of-type {\n",
              "        vertical-align: middle;\n",
              "    }\n",
              "\n",
              "    .dataframe tbody tr th {\n",
              "        vertical-align: top;\n",
              "    }\n",
              "\n",
              "    .dataframe thead th {\n",
              "        text-align: right;\n",
              "    }\n",
              "</style>\n",
              "<table border=\"1\" class=\"dataframe\">\n",
              "  <thead>\n",
              "    <tr style=\"text-align: right;\">\n",
              "      <th></th>\n",
              "      <th>Item_Visibility</th>\n",
              "      <th>Item_Outlet_Sales</th>\n",
              "    </tr>\n",
              "  </thead>\n",
              "  <tbody>\n",
              "    <tr>\n",
              "      <th>0</th>\n",
              "      <td>0.000000</td>\n",
              "      <td>1.169058e+06</td>\n",
              "    </tr>\n",
              "    <tr>\n",
              "      <th>1</th>\n",
              "      <td>0.003575</td>\n",
              "      <td>3.229796e+03</td>\n",
              "    </tr>\n",
              "    <tr>\n",
              "      <th>2</th>\n",
              "      <td>0.003589</td>\n",
              "      <td>1.691798e+03</td>\n",
              "    </tr>\n",
              "    <tr>\n",
              "      <th>3</th>\n",
              "      <td>0.003598</td>\n",
              "      <td>2.922196e+03</td>\n",
              "    </tr>\n",
              "    <tr>\n",
              "      <th>4</th>\n",
              "      <td>0.003599</td>\n",
              "      <td>3.075996e+03</td>\n",
              "    </tr>\n",
              "    <tr>\n",
              "      <th>...</th>\n",
              "      <td>...</td>\n",
              "      <td>...</td>\n",
              "    </tr>\n",
              "    <tr>\n",
              "      <th>7875</th>\n",
              "      <td>0.309390</td>\n",
              "      <td>1.384864e+02</td>\n",
              "    </tr>\n",
              "    <tr>\n",
              "      <th>7876</th>\n",
              "      <td>0.311090</td>\n",
              "      <td>1.544656e+02</td>\n",
              "    </tr>\n",
              "    <tr>\n",
              "      <th>7877</th>\n",
              "      <td>0.321115</td>\n",
              "      <td>1.997400e+02</td>\n",
              "    </tr>\n",
              "    <tr>\n",
              "      <th>7878</th>\n",
              "      <td>0.325781</td>\n",
              "      <td>7.610094e+02</td>\n",
              "    </tr>\n",
              "    <tr>\n",
              "      <th>7879</th>\n",
              "      <td>0.328391</td>\n",
              "      <td>5.885672e+02</td>\n",
              "    </tr>\n",
              "  </tbody>\n",
              "</table>\n",
              "<p>7880 rows × 2 columns</p>\n",
              "</div>"
            ],
            "text/plain": [
              "      Item_Visibility  Item_Outlet_Sales\n",
              "0            0.000000       1.169058e+06\n",
              "1            0.003575       3.229796e+03\n",
              "2            0.003589       1.691798e+03\n",
              "3            0.003598       2.922196e+03\n",
              "4            0.003599       3.075996e+03\n",
              "...               ...                ...\n",
              "7875         0.309390       1.384864e+02\n",
              "7876         0.311090       1.544656e+02\n",
              "7877         0.321115       1.997400e+02\n",
              "7878         0.325781       7.610094e+02\n",
              "7879         0.328391       5.885672e+02\n",
              "\n",
              "[7880 rows x 2 columns]"
            ]
          },
          "metadata": {
            "tags": []
          },
          "execution_count": 1006
        }
      ]
    },
    {
      "cell_type": "code",
      "metadata": {
        "id": "5f76gl1PNGXO",
        "colab_type": "code",
        "colab": {
          "base_uri": "https://localhost:8080/",
          "height": 34
        },
        "outputId": "ad4acf28-c1d0-4a0d-c7e1-2b018a6092bf"
      },
      "source": [
        "df_train.Item_Visibility.isnull().sum().sum(), df_test.Item_Visibility.isnull().sum().sum()"
      ],
      "execution_count": 1007,
      "outputs": [
        {
          "output_type": "execute_result",
          "data": {
            "text/plain": [
              "(0, 0)"
            ]
          },
          "metadata": {
            "tags": []
          },
          "execution_count": 1007
        }
      ]
    },
    {
      "cell_type": "code",
      "metadata": {
        "id": "pOGmp8zDNYzQ",
        "colab_type": "code",
        "colab": {
          "base_uri": "https://localhost:8080/",
          "height": 545
        },
        "outputId": "d326faad-360e-43ec-8fbb-50e94849dd07"
      },
      "source": [
        "type1=df_train.groupby('Item_Type')['Item_Outlet_Sales'].sum().reset_index()\n",
        "type1"
      ],
      "execution_count": 1008,
      "outputs": [
        {
          "output_type": "execute_result",
          "data": {
            "text/html": [
              "<div>\n",
              "<style scoped>\n",
              "    .dataframe tbody tr th:only-of-type {\n",
              "        vertical-align: middle;\n",
              "    }\n",
              "\n",
              "    .dataframe tbody tr th {\n",
              "        vertical-align: top;\n",
              "    }\n",
              "\n",
              "    .dataframe thead th {\n",
              "        text-align: right;\n",
              "    }\n",
              "</style>\n",
              "<table border=\"1\" class=\"dataframe\">\n",
              "  <thead>\n",
              "    <tr style=\"text-align: right;\">\n",
              "      <th></th>\n",
              "      <th>Item_Type</th>\n",
              "      <th>Item_Outlet_Sales</th>\n",
              "    </tr>\n",
              "  </thead>\n",
              "  <tbody>\n",
              "    <tr>\n",
              "      <th>0</th>\n",
              "      <td>Baking Goods</td>\n",
              "      <td>1.265525e+06</td>\n",
              "    </tr>\n",
              "    <tr>\n",
              "      <th>1</th>\n",
              "      <td>Breads</td>\n",
              "      <td>5.532372e+05</td>\n",
              "    </tr>\n",
              "    <tr>\n",
              "      <th>2</th>\n",
              "      <td>Breakfast</td>\n",
              "      <td>2.322990e+05</td>\n",
              "    </tr>\n",
              "    <tr>\n",
              "      <th>3</th>\n",
              "      <td>Canned</td>\n",
              "      <td>1.444151e+06</td>\n",
              "    </tr>\n",
              "    <tr>\n",
              "      <th>4</th>\n",
              "      <td>Dairy</td>\n",
              "      <td>1.522594e+06</td>\n",
              "    </tr>\n",
              "    <tr>\n",
              "      <th>5</th>\n",
              "      <td>Frozen Foods</td>\n",
              "      <td>1.825735e+06</td>\n",
              "    </tr>\n",
              "    <tr>\n",
              "      <th>6</th>\n",
              "      <td>Fruits and Vegetables</td>\n",
              "      <td>2.820060e+06</td>\n",
              "    </tr>\n",
              "    <tr>\n",
              "      <th>7</th>\n",
              "      <td>Hard Drinks</td>\n",
              "      <td>4.577934e+05</td>\n",
              "    </tr>\n",
              "    <tr>\n",
              "      <th>8</th>\n",
              "      <td>Health and Hygiene</td>\n",
              "      <td>1.045200e+06</td>\n",
              "    </tr>\n",
              "    <tr>\n",
              "      <th>9</th>\n",
              "      <td>Household</td>\n",
              "      <td>2.055494e+06</td>\n",
              "    </tr>\n",
              "    <tr>\n",
              "      <th>10</th>\n",
              "      <td>Meat</td>\n",
              "      <td>9.175656e+05</td>\n",
              "    </tr>\n",
              "    <tr>\n",
              "      <th>11</th>\n",
              "      <td>Others</td>\n",
              "      <td>3.255176e+05</td>\n",
              "    </tr>\n",
              "    <tr>\n",
              "      <th>12</th>\n",
              "      <td>Seafood</td>\n",
              "      <td>1.488682e+05</td>\n",
              "    </tr>\n",
              "    <tr>\n",
              "      <th>13</th>\n",
              "      <td>Snack Foods</td>\n",
              "      <td>2.732786e+06</td>\n",
              "    </tr>\n",
              "    <tr>\n",
              "      <th>14</th>\n",
              "      <td>Soft Drinks</td>\n",
              "      <td>8.928977e+05</td>\n",
              "    </tr>\n",
              "    <tr>\n",
              "      <th>15</th>\n",
              "      <td>Starchy Foods</td>\n",
              "      <td>3.514013e+05</td>\n",
              "    </tr>\n",
              "  </tbody>\n",
              "</table>\n",
              "</div>"
            ],
            "text/plain": [
              "                Item_Type  Item_Outlet_Sales\n",
              "0            Baking Goods       1.265525e+06\n",
              "1                  Breads       5.532372e+05\n",
              "2               Breakfast       2.322990e+05\n",
              "3                  Canned       1.444151e+06\n",
              "4                   Dairy       1.522594e+06\n",
              "5            Frozen Foods       1.825735e+06\n",
              "6   Fruits and Vegetables       2.820060e+06\n",
              "7             Hard Drinks       4.577934e+05\n",
              "8      Health and Hygiene       1.045200e+06\n",
              "9               Household       2.055494e+06\n",
              "10                   Meat       9.175656e+05\n",
              "11                 Others       3.255176e+05\n",
              "12                Seafood       1.488682e+05\n",
              "13            Snack Foods       2.732786e+06\n",
              "14            Soft Drinks       8.928977e+05\n",
              "15          Starchy Foods       3.514013e+05"
            ]
          },
          "metadata": {
            "tags": []
          },
          "execution_count": 1008
        }
      ]
    },
    {
      "cell_type": "code",
      "metadata": {
        "id": "P-U2SfJtNok1",
        "colab_type": "code",
        "colab": {}
      },
      "source": [
        "type2={'Baking Goods':1, 'Breads':2, 'Breakfast':3,'Canned':4,'Dairy':5, 'Frozen Foods':6, 'Fruits and Vegetables':7,\n",
        "       'Hard Drinks':8, 'Health and Hygiene':9, 'Household': 10, 'Meat':11, 'Others':12, 'Seafood':13, 'Snack Foods':14,\n",
        "       'Soft Drinks':15, 'Starchy Foods':16}\n",
        "df_train.Item_Type=df_train.Item_Type.map(type2)\n",
        "df_test.Item_Type=df_test.Item_Type.map(type2)"
      ],
      "execution_count": 1009,
      "outputs": []
    },
    {
      "cell_type": "code",
      "metadata": {
        "id": "YrdxcXp_OzYK",
        "colab_type": "code",
        "colab": {
          "base_uri": "https://localhost:8080/",
          "height": 545
        },
        "outputId": "6be2bba8-20d1-41ea-ad38-9cab00b1b746"
      },
      "source": [
        "type3=df_train.groupby('Item_Type')['Item_Outlet_Sales'].sum().reset_index()\n",
        "type3"
      ],
      "execution_count": 1010,
      "outputs": [
        {
          "output_type": "execute_result",
          "data": {
            "text/html": [
              "<div>\n",
              "<style scoped>\n",
              "    .dataframe tbody tr th:only-of-type {\n",
              "        vertical-align: middle;\n",
              "    }\n",
              "\n",
              "    .dataframe tbody tr th {\n",
              "        vertical-align: top;\n",
              "    }\n",
              "\n",
              "    .dataframe thead th {\n",
              "        text-align: right;\n",
              "    }\n",
              "</style>\n",
              "<table border=\"1\" class=\"dataframe\">\n",
              "  <thead>\n",
              "    <tr style=\"text-align: right;\">\n",
              "      <th></th>\n",
              "      <th>Item_Type</th>\n",
              "      <th>Item_Outlet_Sales</th>\n",
              "    </tr>\n",
              "  </thead>\n",
              "  <tbody>\n",
              "    <tr>\n",
              "      <th>0</th>\n",
              "      <td>1</td>\n",
              "      <td>1.265525e+06</td>\n",
              "    </tr>\n",
              "    <tr>\n",
              "      <th>1</th>\n",
              "      <td>2</td>\n",
              "      <td>5.532372e+05</td>\n",
              "    </tr>\n",
              "    <tr>\n",
              "      <th>2</th>\n",
              "      <td>3</td>\n",
              "      <td>2.322990e+05</td>\n",
              "    </tr>\n",
              "    <tr>\n",
              "      <th>3</th>\n",
              "      <td>4</td>\n",
              "      <td>1.444151e+06</td>\n",
              "    </tr>\n",
              "    <tr>\n",
              "      <th>4</th>\n",
              "      <td>5</td>\n",
              "      <td>1.522594e+06</td>\n",
              "    </tr>\n",
              "    <tr>\n",
              "      <th>5</th>\n",
              "      <td>6</td>\n",
              "      <td>1.825735e+06</td>\n",
              "    </tr>\n",
              "    <tr>\n",
              "      <th>6</th>\n",
              "      <td>7</td>\n",
              "      <td>2.820060e+06</td>\n",
              "    </tr>\n",
              "    <tr>\n",
              "      <th>7</th>\n",
              "      <td>8</td>\n",
              "      <td>4.577934e+05</td>\n",
              "    </tr>\n",
              "    <tr>\n",
              "      <th>8</th>\n",
              "      <td>9</td>\n",
              "      <td>1.045200e+06</td>\n",
              "    </tr>\n",
              "    <tr>\n",
              "      <th>9</th>\n",
              "      <td>10</td>\n",
              "      <td>2.055494e+06</td>\n",
              "    </tr>\n",
              "    <tr>\n",
              "      <th>10</th>\n",
              "      <td>11</td>\n",
              "      <td>9.175656e+05</td>\n",
              "    </tr>\n",
              "    <tr>\n",
              "      <th>11</th>\n",
              "      <td>12</td>\n",
              "      <td>3.255176e+05</td>\n",
              "    </tr>\n",
              "    <tr>\n",
              "      <th>12</th>\n",
              "      <td>13</td>\n",
              "      <td>1.488682e+05</td>\n",
              "    </tr>\n",
              "    <tr>\n",
              "      <th>13</th>\n",
              "      <td>14</td>\n",
              "      <td>2.732786e+06</td>\n",
              "    </tr>\n",
              "    <tr>\n",
              "      <th>14</th>\n",
              "      <td>15</td>\n",
              "      <td>8.928977e+05</td>\n",
              "    </tr>\n",
              "    <tr>\n",
              "      <th>15</th>\n",
              "      <td>16</td>\n",
              "      <td>3.514013e+05</td>\n",
              "    </tr>\n",
              "  </tbody>\n",
              "</table>\n",
              "</div>"
            ],
            "text/plain": [
              "    Item_Type  Item_Outlet_Sales\n",
              "0           1       1.265525e+06\n",
              "1           2       5.532372e+05\n",
              "2           3       2.322990e+05\n",
              "3           4       1.444151e+06\n",
              "4           5       1.522594e+06\n",
              "5           6       1.825735e+06\n",
              "6           7       2.820060e+06\n",
              "7           8       4.577934e+05\n",
              "8           9       1.045200e+06\n",
              "9          10       2.055494e+06\n",
              "10         11       9.175656e+05\n",
              "11         12       3.255176e+05\n",
              "12         13       1.488682e+05\n",
              "13         14       2.732786e+06\n",
              "14         15       8.928977e+05\n",
              "15         16       3.514013e+05"
            ]
          },
          "metadata": {
            "tags": []
          },
          "execution_count": 1010
        }
      ]
    },
    {
      "cell_type": "code",
      "metadata": {
        "id": "YkrukCDnPGLv",
        "colab_type": "code",
        "colab": {
          "base_uri": "https://localhost:8080/",
          "height": 34
        },
        "outputId": "7b6b374c-3436-492e-972c-f6d54531515d"
      },
      "source": [
        "df_train.Item_Type.isnull().sum().sum(), df_test.Item_Type.isnull().sum().sum()"
      ],
      "execution_count": 1011,
      "outputs": [
        {
          "output_type": "execute_result",
          "data": {
            "text/plain": [
              "(0, 0)"
            ]
          },
          "metadata": {
            "tags": []
          },
          "execution_count": 1011
        }
      ]
    },
    {
      "cell_type": "code",
      "metadata": {
        "id": "XpGIhzOhRhLd",
        "colab_type": "code",
        "colab": {
          "base_uri": "https://localhost:8080/",
          "height": 419
        },
        "outputId": "0764010e-67e8-47ae-c1a0-a7e923d5a08e"
      },
      "source": [
        "mrp=df_train.groupby('Item_MRP')['Item_Outlet_Sales'].sum().reset_index()\n",
        "mrp"
      ],
      "execution_count": 1012,
      "outputs": [
        {
          "output_type": "execute_result",
          "data": {
            "text/html": [
              "<div>\n",
              "<style scoped>\n",
              "    .dataframe tbody tr th:only-of-type {\n",
              "        vertical-align: middle;\n",
              "    }\n",
              "\n",
              "    .dataframe tbody tr th {\n",
              "        vertical-align: top;\n",
              "    }\n",
              "\n",
              "    .dataframe thead th {\n",
              "        text-align: right;\n",
              "    }\n",
              "</style>\n",
              "<table border=\"1\" class=\"dataframe\">\n",
              "  <thead>\n",
              "    <tr style=\"text-align: right;\">\n",
              "      <th></th>\n",
              "      <th>Item_MRP</th>\n",
              "      <th>Item_Outlet_Sales</th>\n",
              "    </tr>\n",
              "  </thead>\n",
              "  <tbody>\n",
              "    <tr>\n",
              "      <th>0</th>\n",
              "      <td>31.2900</td>\n",
              "      <td>898.8300</td>\n",
              "    </tr>\n",
              "    <tr>\n",
              "      <th>1</th>\n",
              "      <td>31.4900</td>\n",
              "      <td>466.0600</td>\n",
              "    </tr>\n",
              "    <tr>\n",
              "      <th>2</th>\n",
              "      <td>31.8900</td>\n",
              "      <td>366.1900</td>\n",
              "    </tr>\n",
              "    <tr>\n",
              "      <th>3</th>\n",
              "      <td>31.9558</td>\n",
              "      <td>1358.2320</td>\n",
              "    </tr>\n",
              "    <tr>\n",
              "      <th>4</th>\n",
              "      <td>32.0558</td>\n",
              "      <td>1018.6740</td>\n",
              "    </tr>\n",
              "    <tr>\n",
              "      <th>...</th>\n",
              "      <td>...</td>\n",
              "      <td>...</td>\n",
              "    </tr>\n",
              "    <tr>\n",
              "      <th>5933</th>\n",
              "      <td>266.1884</td>\n",
              "      <td>8479.6288</td>\n",
              "    </tr>\n",
              "    <tr>\n",
              "      <th>5934</th>\n",
              "      <td>266.2884</td>\n",
              "      <td>2914.8724</td>\n",
              "    </tr>\n",
              "    <tr>\n",
              "      <th>5935</th>\n",
              "      <td>266.5884</td>\n",
              "      <td>7949.6520</td>\n",
              "    </tr>\n",
              "    <tr>\n",
              "      <th>5936</th>\n",
              "      <td>266.6884</td>\n",
              "      <td>4239.8144</td>\n",
              "    </tr>\n",
              "    <tr>\n",
              "      <th>5937</th>\n",
              "      <td>266.8884</td>\n",
              "      <td>6094.7332</td>\n",
              "    </tr>\n",
              "  </tbody>\n",
              "</table>\n",
              "<p>5938 rows × 2 columns</p>\n",
              "</div>"
            ],
            "text/plain": [
              "      Item_MRP  Item_Outlet_Sales\n",
              "0      31.2900           898.8300\n",
              "1      31.4900           466.0600\n",
              "2      31.8900           366.1900\n",
              "3      31.9558          1358.2320\n",
              "4      32.0558          1018.6740\n",
              "...        ...                ...\n",
              "5933  266.1884          8479.6288\n",
              "5934  266.2884          2914.8724\n",
              "5935  266.5884          7949.6520\n",
              "5936  266.6884          4239.8144\n",
              "5937  266.8884          6094.7332\n",
              "\n",
              "[5938 rows x 2 columns]"
            ]
          },
          "metadata": {
            "tags": []
          },
          "execution_count": 1012
        }
      ]
    },
    {
      "cell_type": "code",
      "metadata": {
        "id": "RlNhOFZ1Rr_P",
        "colab_type": "code",
        "colab": {
          "base_uri": "https://localhost:8080/",
          "height": 34
        },
        "outputId": "99f22e83-e6bb-46bb-95ef-885eb1b4d250"
      },
      "source": [
        "df_train.Item_MRP.isnull().sum().sum(), df_test.Item_MRP.isnull().sum().sum()"
      ],
      "execution_count": 1013,
      "outputs": [
        {
          "output_type": "execute_result",
          "data": {
            "text/plain": [
              "(0, 0)"
            ]
          },
          "metadata": {
            "tags": []
          },
          "execution_count": 1013
        }
      ]
    },
    {
      "cell_type": "code",
      "metadata": {
        "id": "yPJ9qb7QSkl0",
        "colab_type": "code",
        "colab": {}
      },
      "source": [
        "df_train['Outlet_Identifier'] = df_train['Outlet_Identifier'].str.lstrip(\"OUT0\")\n",
        "df_test['Outlet_Identifier'] = df_test['Outlet_Identifier'].str.lstrip(\"OUT0\")"
      ],
      "execution_count": 1014,
      "outputs": []
    },
    {
      "cell_type": "code",
      "metadata": {
        "id": "95of5Z34S3Kn",
        "colab_type": "code",
        "colab": {
          "base_uri": "https://localhost:8080/",
          "height": 359
        },
        "outputId": "ed6d202e-89f7-4b5a-e758-8fe72536415d"
      },
      "source": [
        "ident=df_train.groupby('Outlet_Identifier')['Item_Outlet_Sales'].sum().reset_index()\n",
        "ident"
      ],
      "execution_count": 1015,
      "outputs": [
        {
          "output_type": "execute_result",
          "data": {
            "text/html": [
              "<div>\n",
              "<style scoped>\n",
              "    .dataframe tbody tr th:only-of-type {\n",
              "        vertical-align: middle;\n",
              "    }\n",
              "\n",
              "    .dataframe tbody tr th {\n",
              "        vertical-align: top;\n",
              "    }\n",
              "\n",
              "    .dataframe thead th {\n",
              "        text-align: right;\n",
              "    }\n",
              "</style>\n",
              "<table border=\"1\" class=\"dataframe\">\n",
              "  <thead>\n",
              "    <tr style=\"text-align: right;\">\n",
              "      <th></th>\n",
              "      <th>Outlet_Identifier</th>\n",
              "      <th>Item_Outlet_Sales</th>\n",
              "    </tr>\n",
              "  </thead>\n",
              "  <tbody>\n",
              "    <tr>\n",
              "      <th>0</th>\n",
              "      <td>10</td>\n",
              "      <td>1.883402e+05</td>\n",
              "    </tr>\n",
              "    <tr>\n",
              "      <th>1</th>\n",
              "      <td>13</td>\n",
              "      <td>2.142664e+06</td>\n",
              "    </tr>\n",
              "    <tr>\n",
              "      <th>2</th>\n",
              "      <td>17</td>\n",
              "      <td>2.167465e+06</td>\n",
              "    </tr>\n",
              "    <tr>\n",
              "      <th>3</th>\n",
              "      <td>18</td>\n",
              "      <td>1.851823e+06</td>\n",
              "    </tr>\n",
              "    <tr>\n",
              "      <th>4</th>\n",
              "      <td>19</td>\n",
              "      <td>1.796941e+05</td>\n",
              "    </tr>\n",
              "    <tr>\n",
              "      <th>5</th>\n",
              "      <td>27</td>\n",
              "      <td>3.453926e+06</td>\n",
              "    </tr>\n",
              "    <tr>\n",
              "      <th>6</th>\n",
              "      <td>35</td>\n",
              "      <td>2.268123e+06</td>\n",
              "    </tr>\n",
              "    <tr>\n",
              "      <th>7</th>\n",
              "      <td>45</td>\n",
              "      <td>2.036725e+06</td>\n",
              "    </tr>\n",
              "    <tr>\n",
              "      <th>8</th>\n",
              "      <td>46</td>\n",
              "      <td>2.118395e+06</td>\n",
              "    </tr>\n",
              "    <tr>\n",
              "      <th>9</th>\n",
              "      <td>49</td>\n",
              "      <td>2.183970e+06</td>\n",
              "    </tr>\n",
              "  </tbody>\n",
              "</table>\n",
              "</div>"
            ],
            "text/plain": [
              "  Outlet_Identifier  Item_Outlet_Sales\n",
              "0                10       1.883402e+05\n",
              "1                13       2.142664e+06\n",
              "2                17       2.167465e+06\n",
              "3                18       1.851823e+06\n",
              "4                19       1.796941e+05\n",
              "5                27       3.453926e+06\n",
              "6                35       2.268123e+06\n",
              "7                45       2.036725e+06\n",
              "8                46       2.118395e+06\n",
              "9                49       2.183970e+06"
            ]
          },
          "metadata": {
            "tags": []
          },
          "execution_count": 1015
        }
      ]
    },
    {
      "cell_type": "code",
      "metadata": {
        "id": "5VY-aY3OTT30",
        "colab_type": "code",
        "colab": {
          "base_uri": "https://localhost:8080/",
          "height": 34
        },
        "outputId": "f91857ad-0eda-49a3-ce76-be66a2258662"
      },
      "source": [
        "df_train.Outlet_Identifier.isnull().sum().sum(), df_test.Outlet_Identifier.isnull().sum().sum()"
      ],
      "execution_count": 1016,
      "outputs": [
        {
          "output_type": "execute_result",
          "data": {
            "text/plain": [
              "(0, 0)"
            ]
          },
          "metadata": {
            "tags": []
          },
          "execution_count": 1016
        }
      ]
    },
    {
      "cell_type": "code",
      "metadata": {
        "id": "o_xkhA3aTewo",
        "colab_type": "code",
        "colab": {
          "base_uri": "https://localhost:8080/",
          "height": 328
        },
        "outputId": "d87725f2-633f-4aa1-aa4c-3d69910515dc"
      },
      "source": [
        "year=df_train.groupby('Outlet_Establishment_Year')['Item_Outlet_Sales'].sum().reset_index()\n",
        "year"
      ],
      "execution_count": 1017,
      "outputs": [
        {
          "output_type": "execute_result",
          "data": {
            "text/html": [
              "<div>\n",
              "<style scoped>\n",
              "    .dataframe tbody tr th:only-of-type {\n",
              "        vertical-align: middle;\n",
              "    }\n",
              "\n",
              "    .dataframe tbody tr th {\n",
              "        vertical-align: top;\n",
              "    }\n",
              "\n",
              "    .dataframe thead th {\n",
              "        text-align: right;\n",
              "    }\n",
              "</style>\n",
              "<table border=\"1\" class=\"dataframe\">\n",
              "  <thead>\n",
              "    <tr style=\"text-align: right;\">\n",
              "      <th></th>\n",
              "      <th>Outlet_Establishment_Year</th>\n",
              "      <th>Item_Outlet_Sales</th>\n",
              "    </tr>\n",
              "  </thead>\n",
              "  <tbody>\n",
              "    <tr>\n",
              "      <th>0</th>\n",
              "      <td>1985</td>\n",
              "      <td>3.633620e+06</td>\n",
              "    </tr>\n",
              "    <tr>\n",
              "      <th>1</th>\n",
              "      <td>1987</td>\n",
              "      <td>2.142664e+06</td>\n",
              "    </tr>\n",
              "    <tr>\n",
              "      <th>2</th>\n",
              "      <td>1997</td>\n",
              "      <td>2.118395e+06</td>\n",
              "    </tr>\n",
              "    <tr>\n",
              "      <th>3</th>\n",
              "      <td>1998</td>\n",
              "      <td>1.883402e+05</td>\n",
              "    </tr>\n",
              "    <tr>\n",
              "      <th>4</th>\n",
              "      <td>1999</td>\n",
              "      <td>2.183970e+06</td>\n",
              "    </tr>\n",
              "    <tr>\n",
              "      <th>5</th>\n",
              "      <td>2002</td>\n",
              "      <td>2.036725e+06</td>\n",
              "    </tr>\n",
              "    <tr>\n",
              "      <th>6</th>\n",
              "      <td>2004</td>\n",
              "      <td>2.268123e+06</td>\n",
              "    </tr>\n",
              "    <tr>\n",
              "      <th>7</th>\n",
              "      <td>2007</td>\n",
              "      <td>2.167465e+06</td>\n",
              "    </tr>\n",
              "    <tr>\n",
              "      <th>8</th>\n",
              "      <td>2009</td>\n",
              "      <td>1.851823e+06</td>\n",
              "    </tr>\n",
              "  </tbody>\n",
              "</table>\n",
              "</div>"
            ],
            "text/plain": [
              "   Outlet_Establishment_Year  Item_Outlet_Sales\n",
              "0                       1985       3.633620e+06\n",
              "1                       1987       2.142664e+06\n",
              "2                       1997       2.118395e+06\n",
              "3                       1998       1.883402e+05\n",
              "4                       1999       2.183970e+06\n",
              "5                       2002       2.036725e+06\n",
              "6                       2004       2.268123e+06\n",
              "7                       2007       2.167465e+06\n",
              "8                       2009       1.851823e+06"
            ]
          },
          "metadata": {
            "tags": []
          },
          "execution_count": 1017
        }
      ]
    },
    {
      "cell_type": "code",
      "metadata": {
        "id": "VRMLJLsuT4cg",
        "colab_type": "code",
        "colab": {
          "base_uri": "https://localhost:8080/",
          "height": 34
        },
        "outputId": "4486971f-fce2-4e33-fdf7-28e44a35d6c2"
      },
      "source": [
        "df_train.Outlet_Establishment_Year.isnull().sum().sum(), df_test.Outlet_Establishment_Year.isnull().sum().sum()"
      ],
      "execution_count": 1018,
      "outputs": [
        {
          "output_type": "execute_result",
          "data": {
            "text/plain": [
              "(0, 0)"
            ]
          },
          "metadata": {
            "tags": []
          },
          "execution_count": 1018
        }
      ]
    },
    {
      "cell_type": "code",
      "metadata": {
        "id": "ui6vDMe1UBlW",
        "colab_type": "code",
        "colab": {
          "base_uri": "https://localhost:8080/",
          "height": 142
        },
        "outputId": "bda3bb49-7c1e-4fb6-b6b4-7ae4f46b2992"
      },
      "source": [
        "size=df_train.groupby('Outlet_Size')['Item_Outlet_Sales'].sum().reset_index()\n",
        "size"
      ],
      "execution_count": 1019,
      "outputs": [
        {
          "output_type": "execute_result",
          "data": {
            "text/html": [
              "<div>\n",
              "<style scoped>\n",
              "    .dataframe tbody tr th:only-of-type {\n",
              "        vertical-align: middle;\n",
              "    }\n",
              "\n",
              "    .dataframe tbody tr th {\n",
              "        vertical-align: top;\n",
              "    }\n",
              "\n",
              "    .dataframe thead th {\n",
              "        text-align: right;\n",
              "    }\n",
              "</style>\n",
              "<table border=\"1\" class=\"dataframe\">\n",
              "  <thead>\n",
              "    <tr style=\"text-align: right;\">\n",
              "      <th></th>\n",
              "      <th>Outlet_Size</th>\n",
              "      <th>Item_Outlet_Sales</th>\n",
              "    </tr>\n",
              "  </thead>\n",
              "  <tbody>\n",
              "    <tr>\n",
              "      <th>0</th>\n",
              "      <td>High</td>\n",
              "      <td>2.142664e+06</td>\n",
              "    </tr>\n",
              "    <tr>\n",
              "      <th>1</th>\n",
              "      <td>Medium</td>\n",
              "      <td>1.188225e+07</td>\n",
              "    </tr>\n",
              "    <tr>\n",
              "      <th>2</th>\n",
              "      <td>Small</td>\n",
              "      <td>4.566212e+06</td>\n",
              "    </tr>\n",
              "  </tbody>\n",
              "</table>\n",
              "</div>"
            ],
            "text/plain": [
              "  Outlet_Size  Item_Outlet_Sales\n",
              "0        High       2.142664e+06\n",
              "1      Medium       1.188225e+07\n",
              "2       Small       4.566212e+06"
            ]
          },
          "metadata": {
            "tags": []
          },
          "execution_count": 1019
        }
      ]
    },
    {
      "cell_type": "code",
      "metadata": {
        "id": "VTR0MX2wUaku",
        "colab_type": "code",
        "colab": {}
      },
      "source": [
        "size1={'High':1, 'Medium':2, 'Small':3}\n",
        "df_train.Outlet_Size=df_train.Outlet_Size.map(size1)\n",
        "df_test.Outlet_Size=df_test.Outlet_Size.map(size1)"
      ],
      "execution_count": 1020,
      "outputs": []
    },
    {
      "cell_type": "code",
      "metadata": {
        "id": "mLz0d09yVEgi",
        "colab_type": "code",
        "colab": {
          "base_uri": "https://localhost:8080/",
          "height": 142
        },
        "outputId": "f1046d4a-33d5-4fef-e7f8-71a5b83acf0a"
      },
      "source": [
        "size2=df_train.groupby('Outlet_Size')['Item_Outlet_Sales'].sum().reset_index()\n",
        "size2"
      ],
      "execution_count": 1021,
      "outputs": [
        {
          "output_type": "execute_result",
          "data": {
            "text/html": [
              "<div>\n",
              "<style scoped>\n",
              "    .dataframe tbody tr th:only-of-type {\n",
              "        vertical-align: middle;\n",
              "    }\n",
              "\n",
              "    .dataframe tbody tr th {\n",
              "        vertical-align: top;\n",
              "    }\n",
              "\n",
              "    .dataframe thead th {\n",
              "        text-align: right;\n",
              "    }\n",
              "</style>\n",
              "<table border=\"1\" class=\"dataframe\">\n",
              "  <thead>\n",
              "    <tr style=\"text-align: right;\">\n",
              "      <th></th>\n",
              "      <th>Outlet_Size</th>\n",
              "      <th>Item_Outlet_Sales</th>\n",
              "    </tr>\n",
              "  </thead>\n",
              "  <tbody>\n",
              "    <tr>\n",
              "      <th>0</th>\n",
              "      <td>1</td>\n",
              "      <td>2.142664e+06</td>\n",
              "    </tr>\n",
              "    <tr>\n",
              "      <th>1</th>\n",
              "      <td>2</td>\n",
              "      <td>1.188225e+07</td>\n",
              "    </tr>\n",
              "    <tr>\n",
              "      <th>2</th>\n",
              "      <td>3</td>\n",
              "      <td>4.566212e+06</td>\n",
              "    </tr>\n",
              "  </tbody>\n",
              "</table>\n",
              "</div>"
            ],
            "text/plain": [
              "   Outlet_Size  Item_Outlet_Sales\n",
              "0            1       2.142664e+06\n",
              "1            2       1.188225e+07\n",
              "2            3       4.566212e+06"
            ]
          },
          "metadata": {
            "tags": []
          },
          "execution_count": 1021
        }
      ]
    },
    {
      "cell_type": "code",
      "metadata": {
        "id": "ei1-8X8qVOIW",
        "colab_type": "code",
        "colab": {
          "base_uri": "https://localhost:8080/",
          "height": 34
        },
        "outputId": "de6175c9-50b9-4815-ac70-a025b8cfc8c9"
      },
      "source": [
        "df_train.Outlet_Size.isnull().sum().sum(), df_test.Outlet_Size.isnull().sum().sum()"
      ],
      "execution_count": 1022,
      "outputs": [
        {
          "output_type": "execute_result",
          "data": {
            "text/plain": [
              "(0, 0)"
            ]
          },
          "metadata": {
            "tags": []
          },
          "execution_count": 1022
        }
      ]
    },
    {
      "cell_type": "code",
      "metadata": {
        "id": "hJFqt2hEVswI",
        "colab_type": "code",
        "colab": {}
      },
      "source": [
        "df_train['Outlet_Location_Type'] = df_train['Outlet_Location_Type'].str.lstrip(\"Tier \")\n",
        "df_test['Outlet_Location_Type'] = df_test['Outlet_Location_Type'].str.lstrip(\"Tier \")"
      ],
      "execution_count": 1023,
      "outputs": []
    },
    {
      "cell_type": "code",
      "metadata": {
        "id": "lYjnTyj_V3S3",
        "colab_type": "code",
        "colab": {
          "base_uri": "https://localhost:8080/",
          "height": 142
        },
        "outputId": "71c96cea-82ff-4175-a822-07750345e863"
      },
      "source": [
        "locale=df_train.groupby('Outlet_Location_Type')['Item_Outlet_Sales'].sum().reset_index()\n",
        "locale"
      ],
      "execution_count": 1024,
      "outputs": [
        {
          "output_type": "execute_result",
          "data": {
            "text/html": [
              "<div>\n",
              "<style scoped>\n",
              "    .dataframe tbody tr th:only-of-type {\n",
              "        vertical-align: middle;\n",
              "    }\n",
              "\n",
              "    .dataframe tbody tr th {\n",
              "        vertical-align: top;\n",
              "    }\n",
              "\n",
              "    .dataframe thead th {\n",
              "        text-align: right;\n",
              "    }\n",
              "</style>\n",
              "<table border=\"1\" class=\"dataframe\">\n",
              "  <thead>\n",
              "    <tr style=\"text-align: right;\">\n",
              "      <th></th>\n",
              "      <th>Outlet_Location_Type</th>\n",
              "      <th>Item_Outlet_Sales</th>\n",
              "    </tr>\n",
              "  </thead>\n",
              "  <tbody>\n",
              "    <tr>\n",
              "      <th>0</th>\n",
              "      <td>1</td>\n",
              "      <td>4.482059e+06</td>\n",
              "    </tr>\n",
              "    <tr>\n",
              "      <th>1</th>\n",
              "      <td>2</td>\n",
              "      <td>6.472314e+06</td>\n",
              "    </tr>\n",
              "    <tr>\n",
              "      <th>2</th>\n",
              "      <td>3</td>\n",
              "      <td>7.636753e+06</td>\n",
              "    </tr>\n",
              "  </tbody>\n",
              "</table>\n",
              "</div>"
            ],
            "text/plain": [
              "  Outlet_Location_Type  Item_Outlet_Sales\n",
              "0                    1       4.482059e+06\n",
              "1                    2       6.472314e+06\n",
              "2                    3       7.636753e+06"
            ]
          },
          "metadata": {
            "tags": []
          },
          "execution_count": 1024
        }
      ]
    },
    {
      "cell_type": "code",
      "metadata": {
        "id": "TpVne3iJWInx",
        "colab_type": "code",
        "colab": {
          "base_uri": "https://localhost:8080/",
          "height": 34
        },
        "outputId": "44fbab2d-a79b-4ce4-9ee4-8b2031740167"
      },
      "source": [
        "df_train.Outlet_Location_Type.isnull().sum().sum(), df_test.Outlet_Location_Type.isnull().sum().sum()"
      ],
      "execution_count": 1025,
      "outputs": [
        {
          "output_type": "execute_result",
          "data": {
            "text/plain": [
              "(0, 0)"
            ]
          },
          "metadata": {
            "tags": []
          },
          "execution_count": 1025
        }
      ]
    },
    {
      "cell_type": "code",
      "metadata": {
        "id": "JZQq59O4W89b",
        "colab_type": "code",
        "colab": {}
      },
      "source": [
        "df_train['Outlet_Type'] = df_train['Outlet_Type'].str.lstrip(\"Supermarket Type\")\n",
        "df_test['Outlet_Type'] = df_test['Outlet_Type'].str.lstrip(\"Supermarket Type\")"
      ],
      "execution_count": 1026,
      "outputs": []
    },
    {
      "cell_type": "code",
      "metadata": {
        "id": "zEdAAKaZWU_N",
        "colab_type": "code",
        "colab": {
          "base_uri": "https://localhost:8080/",
          "height": 173
        },
        "outputId": "aa725072-4def-4b24-8c44-47fd123c413a"
      },
      "source": [
        "type0=df_train.groupby('Outlet_Type')['Item_Outlet_Sales'].sum().reset_index()\n",
        "type0"
      ],
      "execution_count": 1027,
      "outputs": [
        {
          "output_type": "execute_result",
          "data": {
            "text/html": [
              "<div>\n",
              "<style scoped>\n",
              "    .dataframe tbody tr th:only-of-type {\n",
              "        vertical-align: middle;\n",
              "    }\n",
              "\n",
              "    .dataframe tbody tr th {\n",
              "        vertical-align: top;\n",
              "    }\n",
              "\n",
              "    .dataframe thead th {\n",
              "        text-align: right;\n",
              "    }\n",
              "</style>\n",
              "<table border=\"1\" class=\"dataframe\">\n",
              "  <thead>\n",
              "    <tr style=\"text-align: right;\">\n",
              "      <th></th>\n",
              "      <th>Outlet_Type</th>\n",
              "      <th>Item_Outlet_Sales</th>\n",
              "    </tr>\n",
              "  </thead>\n",
              "  <tbody>\n",
              "    <tr>\n",
              "      <th>0</th>\n",
              "      <td>1</td>\n",
              "      <td>1.291734e+07</td>\n",
              "    </tr>\n",
              "    <tr>\n",
              "      <th>1</th>\n",
              "      <td>2</td>\n",
              "      <td>1.851823e+06</td>\n",
              "    </tr>\n",
              "    <tr>\n",
              "      <th>2</th>\n",
              "      <td>3</td>\n",
              "      <td>3.453926e+06</td>\n",
              "    </tr>\n",
              "    <tr>\n",
              "      <th>3</th>\n",
              "      <td>Grocery Store</td>\n",
              "      <td>3.680343e+05</td>\n",
              "    </tr>\n",
              "  </tbody>\n",
              "</table>\n",
              "</div>"
            ],
            "text/plain": [
              "     Outlet_Type  Item_Outlet_Sales\n",
              "0              1       1.291734e+07\n",
              "1              2       1.851823e+06\n",
              "2              3       3.453926e+06\n",
              "3  Grocery Store       3.680343e+05"
            ]
          },
          "metadata": {
            "tags": []
          },
          "execution_count": 1027
        }
      ]
    },
    {
      "cell_type": "code",
      "metadata": {
        "id": "cJTZYhINXMcc",
        "colab_type": "code",
        "colab": {}
      },
      "source": [
        "type3={'1':1, '2':2, '3':3, 'Grocery Store':4}\n",
        "df_train.Outlet_Type=df_train.Outlet_Type.map(type3)\n",
        "df_test.Outlet_Type=df_test.Outlet_Type.map(type3)"
      ],
      "execution_count": 1028,
      "outputs": []
    },
    {
      "cell_type": "code",
      "metadata": {
        "id": "L6nFkRI4XrJ0",
        "colab_type": "code",
        "colab": {
          "base_uri": "https://localhost:8080/",
          "height": 173
        },
        "outputId": "4ed09556-5d5a-43ab-8da1-242c137fc638"
      },
      "source": [
        "type3=df_train.groupby('Outlet_Type')['Item_Outlet_Sales'].sum().reset_index()\n",
        "type3"
      ],
      "execution_count": 1029,
      "outputs": [
        {
          "output_type": "execute_result",
          "data": {
            "text/html": [
              "<div>\n",
              "<style scoped>\n",
              "    .dataframe tbody tr th:only-of-type {\n",
              "        vertical-align: middle;\n",
              "    }\n",
              "\n",
              "    .dataframe tbody tr th {\n",
              "        vertical-align: top;\n",
              "    }\n",
              "\n",
              "    .dataframe thead th {\n",
              "        text-align: right;\n",
              "    }\n",
              "</style>\n",
              "<table border=\"1\" class=\"dataframe\">\n",
              "  <thead>\n",
              "    <tr style=\"text-align: right;\">\n",
              "      <th></th>\n",
              "      <th>Outlet_Type</th>\n",
              "      <th>Item_Outlet_Sales</th>\n",
              "    </tr>\n",
              "  </thead>\n",
              "  <tbody>\n",
              "    <tr>\n",
              "      <th>0</th>\n",
              "      <td>1</td>\n",
              "      <td>1.291734e+07</td>\n",
              "    </tr>\n",
              "    <tr>\n",
              "      <th>1</th>\n",
              "      <td>2</td>\n",
              "      <td>1.851823e+06</td>\n",
              "    </tr>\n",
              "    <tr>\n",
              "      <th>2</th>\n",
              "      <td>3</td>\n",
              "      <td>3.453926e+06</td>\n",
              "    </tr>\n",
              "    <tr>\n",
              "      <th>3</th>\n",
              "      <td>4</td>\n",
              "      <td>3.680343e+05</td>\n",
              "    </tr>\n",
              "  </tbody>\n",
              "</table>\n",
              "</div>"
            ],
            "text/plain": [
              "   Outlet_Type  Item_Outlet_Sales\n",
              "0            1       1.291734e+07\n",
              "1            2       1.851823e+06\n",
              "2            3       3.453926e+06\n",
              "3            4       3.680343e+05"
            ]
          },
          "metadata": {
            "tags": []
          },
          "execution_count": 1029
        }
      ]
    },
    {
      "cell_type": "code",
      "metadata": {
        "id": "A15G1ZBZX-dX",
        "colab_type": "code",
        "colab": {
          "base_uri": "https://localhost:8080/",
          "height": 34
        },
        "outputId": "e67d2e41-cdf4-452a-98bf-53500b676a47"
      },
      "source": [
        "df_train.Outlet_Type.isnull().sum().sum(), df_test.Outlet_Type.isnull().sum().sum()"
      ],
      "execution_count": 1030,
      "outputs": [
        {
          "output_type": "execute_result",
          "data": {
            "text/plain": [
              "(0, 0)"
            ]
          },
          "metadata": {
            "tags": []
          },
          "execution_count": 1030
        }
      ]
    },
    {
      "cell_type": "code",
      "metadata": {
        "id": "YzdHSx0vYvb2",
        "colab_type": "code",
        "colab": {
          "base_uri": "https://localhost:8080/",
          "height": 439
        },
        "outputId": "24b6bb50-ce65-43a6-e92f-8be8e0b79df3"
      },
      "source": [
        "df_train"
      ],
      "execution_count": 1031,
      "outputs": [
        {
          "output_type": "execute_result",
          "data": {
            "text/html": [
              "<div>\n",
              "<style scoped>\n",
              "    .dataframe tbody tr th:only-of-type {\n",
              "        vertical-align: middle;\n",
              "    }\n",
              "\n",
              "    .dataframe tbody tr th {\n",
              "        vertical-align: top;\n",
              "    }\n",
              "\n",
              "    .dataframe thead th {\n",
              "        text-align: right;\n",
              "    }\n",
              "</style>\n",
              "<table border=\"1\" class=\"dataframe\">\n",
              "  <thead>\n",
              "    <tr style=\"text-align: right;\">\n",
              "      <th></th>\n",
              "      <th>Item_Identifier</th>\n",
              "      <th>Item_Weight</th>\n",
              "      <th>Item_Fat_Content</th>\n",
              "      <th>Item_Visibility</th>\n",
              "      <th>Item_Type</th>\n",
              "      <th>Item_MRP</th>\n",
              "      <th>Outlet_Identifier</th>\n",
              "      <th>Outlet_Establishment_Year</th>\n",
              "      <th>Outlet_Size</th>\n",
              "      <th>Outlet_Location_Type</th>\n",
              "      <th>Outlet_Type</th>\n",
              "      <th>Item_Outlet_Sales</th>\n",
              "    </tr>\n",
              "  </thead>\n",
              "  <tbody>\n",
              "    <tr>\n",
              "      <th>0</th>\n",
              "      <td>FDA15</td>\n",
              "      <td>9.300</td>\n",
              "      <td>0</td>\n",
              "      <td>0.016047</td>\n",
              "      <td>5</td>\n",
              "      <td>249.8092</td>\n",
              "      <td>49</td>\n",
              "      <td>1999</td>\n",
              "      <td>2</td>\n",
              "      <td>1</td>\n",
              "      <td>1</td>\n",
              "      <td>3735.1380</td>\n",
              "    </tr>\n",
              "    <tr>\n",
              "      <th>1</th>\n",
              "      <td>DRC01</td>\n",
              "      <td>5.920</td>\n",
              "      <td>1</td>\n",
              "      <td>0.019278</td>\n",
              "      <td>15</td>\n",
              "      <td>48.2692</td>\n",
              "      <td>18</td>\n",
              "      <td>2009</td>\n",
              "      <td>2</td>\n",
              "      <td>3</td>\n",
              "      <td>2</td>\n",
              "      <td>443.4228</td>\n",
              "    </tr>\n",
              "    <tr>\n",
              "      <th>2</th>\n",
              "      <td>FDN15</td>\n",
              "      <td>17.500</td>\n",
              "      <td>0</td>\n",
              "      <td>0.016760</td>\n",
              "      <td>11</td>\n",
              "      <td>141.6180</td>\n",
              "      <td>49</td>\n",
              "      <td>1999</td>\n",
              "      <td>2</td>\n",
              "      <td>1</td>\n",
              "      <td>1</td>\n",
              "      <td>2097.2700</td>\n",
              "    </tr>\n",
              "    <tr>\n",
              "      <th>3</th>\n",
              "      <td>FDX07</td>\n",
              "      <td>19.200</td>\n",
              "      <td>1</td>\n",
              "      <td>0.000000</td>\n",
              "      <td>7</td>\n",
              "      <td>182.0950</td>\n",
              "      <td>10</td>\n",
              "      <td>1998</td>\n",
              "      <td>2</td>\n",
              "      <td>3</td>\n",
              "      <td>4</td>\n",
              "      <td>732.3800</td>\n",
              "    </tr>\n",
              "    <tr>\n",
              "      <th>4</th>\n",
              "      <td>NCD19</td>\n",
              "      <td>8.930</td>\n",
              "      <td>0</td>\n",
              "      <td>0.000000</td>\n",
              "      <td>10</td>\n",
              "      <td>53.8614</td>\n",
              "      <td>13</td>\n",
              "      <td>1987</td>\n",
              "      <td>1</td>\n",
              "      <td>3</td>\n",
              "      <td>1</td>\n",
              "      <td>994.7052</td>\n",
              "    </tr>\n",
              "    <tr>\n",
              "      <th>...</th>\n",
              "      <td>...</td>\n",
              "      <td>...</td>\n",
              "      <td>...</td>\n",
              "      <td>...</td>\n",
              "      <td>...</td>\n",
              "      <td>...</td>\n",
              "      <td>...</td>\n",
              "      <td>...</td>\n",
              "      <td>...</td>\n",
              "      <td>...</td>\n",
              "      <td>...</td>\n",
              "      <td>...</td>\n",
              "    </tr>\n",
              "    <tr>\n",
              "      <th>8518</th>\n",
              "      <td>FDF22</td>\n",
              "      <td>6.865</td>\n",
              "      <td>0</td>\n",
              "      <td>0.056783</td>\n",
              "      <td>14</td>\n",
              "      <td>214.5218</td>\n",
              "      <td>13</td>\n",
              "      <td>1987</td>\n",
              "      <td>1</td>\n",
              "      <td>3</td>\n",
              "      <td>1</td>\n",
              "      <td>2778.3834</td>\n",
              "    </tr>\n",
              "    <tr>\n",
              "      <th>8519</th>\n",
              "      <td>FDS36</td>\n",
              "      <td>8.380</td>\n",
              "      <td>1</td>\n",
              "      <td>0.046982</td>\n",
              "      <td>1</td>\n",
              "      <td>108.1570</td>\n",
              "      <td>45</td>\n",
              "      <td>2002</td>\n",
              "      <td>2</td>\n",
              "      <td>2</td>\n",
              "      <td>1</td>\n",
              "      <td>549.2850</td>\n",
              "    </tr>\n",
              "    <tr>\n",
              "      <th>8520</th>\n",
              "      <td>NCJ29</td>\n",
              "      <td>10.600</td>\n",
              "      <td>0</td>\n",
              "      <td>0.035186</td>\n",
              "      <td>9</td>\n",
              "      <td>85.1224</td>\n",
              "      <td>35</td>\n",
              "      <td>2004</td>\n",
              "      <td>3</td>\n",
              "      <td>2</td>\n",
              "      <td>1</td>\n",
              "      <td>1193.1136</td>\n",
              "    </tr>\n",
              "    <tr>\n",
              "      <th>8521</th>\n",
              "      <td>FDN46</td>\n",
              "      <td>7.210</td>\n",
              "      <td>1</td>\n",
              "      <td>0.145221</td>\n",
              "      <td>14</td>\n",
              "      <td>103.1332</td>\n",
              "      <td>18</td>\n",
              "      <td>2009</td>\n",
              "      <td>2</td>\n",
              "      <td>3</td>\n",
              "      <td>2</td>\n",
              "      <td>1845.5976</td>\n",
              "    </tr>\n",
              "    <tr>\n",
              "      <th>8522</th>\n",
              "      <td>DRG01</td>\n",
              "      <td>14.800</td>\n",
              "      <td>0</td>\n",
              "      <td>0.044878</td>\n",
              "      <td>15</td>\n",
              "      <td>75.4670</td>\n",
              "      <td>46</td>\n",
              "      <td>1997</td>\n",
              "      <td>3</td>\n",
              "      <td>1</td>\n",
              "      <td>1</td>\n",
              "      <td>765.6700</td>\n",
              "    </tr>\n",
              "  </tbody>\n",
              "</table>\n",
              "<p>8523 rows × 12 columns</p>\n",
              "</div>"
            ],
            "text/plain": [
              "     Item_Identifier  Item_Weight  ...  Outlet_Type  Item_Outlet_Sales\n",
              "0              FDA15        9.300  ...            1          3735.1380\n",
              "1              DRC01        5.920  ...            2           443.4228\n",
              "2              FDN15       17.500  ...            1          2097.2700\n",
              "3              FDX07       19.200  ...            4           732.3800\n",
              "4              NCD19        8.930  ...            1           994.7052\n",
              "...              ...          ...  ...          ...                ...\n",
              "8518           FDF22        6.865  ...            1          2778.3834\n",
              "8519           FDS36        8.380  ...            1           549.2850\n",
              "8520           NCJ29       10.600  ...            1          1193.1136\n",
              "8521           FDN46        7.210  ...            2          1845.5976\n",
              "8522           DRG01       14.800  ...            1           765.6700\n",
              "\n",
              "[8523 rows x 12 columns]"
            ]
          },
          "metadata": {
            "tags": []
          },
          "execution_count": 1031
        }
      ]
    },
    {
      "cell_type": "code",
      "metadata": {
        "id": "J37frTftZA1N",
        "colab_type": "code",
        "colab": {
          "base_uri": "https://localhost:8080/",
          "height": 439
        },
        "outputId": "c04f1799-b84e-47dc-fd20-c6edbeaf7cd2"
      },
      "source": [
        "df_test"
      ],
      "execution_count": 1032,
      "outputs": [
        {
          "output_type": "execute_result",
          "data": {
            "text/html": [
              "<div>\n",
              "<style scoped>\n",
              "    .dataframe tbody tr th:only-of-type {\n",
              "        vertical-align: middle;\n",
              "    }\n",
              "\n",
              "    .dataframe tbody tr th {\n",
              "        vertical-align: top;\n",
              "    }\n",
              "\n",
              "    .dataframe thead th {\n",
              "        text-align: right;\n",
              "    }\n",
              "</style>\n",
              "<table border=\"1\" class=\"dataframe\">\n",
              "  <thead>\n",
              "    <tr style=\"text-align: right;\">\n",
              "      <th></th>\n",
              "      <th>Item_Identifier</th>\n",
              "      <th>Item_Weight</th>\n",
              "      <th>Item_Fat_Content</th>\n",
              "      <th>Item_Visibility</th>\n",
              "      <th>Item_Type</th>\n",
              "      <th>Item_MRP</th>\n",
              "      <th>Outlet_Identifier</th>\n",
              "      <th>Outlet_Establishment_Year</th>\n",
              "      <th>Outlet_Size</th>\n",
              "      <th>Outlet_Location_Type</th>\n",
              "      <th>Outlet_Type</th>\n",
              "    </tr>\n",
              "  </thead>\n",
              "  <tbody>\n",
              "    <tr>\n",
              "      <th>0</th>\n",
              "      <td>FDW58</td>\n",
              "      <td>20.750</td>\n",
              "      <td>0</td>\n",
              "      <td>0.007565</td>\n",
              "      <td>14</td>\n",
              "      <td>107.8622</td>\n",
              "      <td>49</td>\n",
              "      <td>1999</td>\n",
              "      <td>2</td>\n",
              "      <td>1</td>\n",
              "      <td>1</td>\n",
              "    </tr>\n",
              "    <tr>\n",
              "      <th>1</th>\n",
              "      <td>FDW14</td>\n",
              "      <td>8.300</td>\n",
              "      <td>1</td>\n",
              "      <td>0.038428</td>\n",
              "      <td>5</td>\n",
              "      <td>87.3198</td>\n",
              "      <td>17</td>\n",
              "      <td>2007</td>\n",
              "      <td>2</td>\n",
              "      <td>2</td>\n",
              "      <td>1</td>\n",
              "    </tr>\n",
              "    <tr>\n",
              "      <th>2</th>\n",
              "      <td>NCN55</td>\n",
              "      <td>14.600</td>\n",
              "      <td>0</td>\n",
              "      <td>0.099575</td>\n",
              "      <td>12</td>\n",
              "      <td>241.7538</td>\n",
              "      <td>10</td>\n",
              "      <td>1998</td>\n",
              "      <td>2</td>\n",
              "      <td>3</td>\n",
              "      <td>4</td>\n",
              "    </tr>\n",
              "    <tr>\n",
              "      <th>3</th>\n",
              "      <td>FDQ58</td>\n",
              "      <td>7.315</td>\n",
              "      <td>0</td>\n",
              "      <td>0.015388</td>\n",
              "      <td>14</td>\n",
              "      <td>155.0340</td>\n",
              "      <td>17</td>\n",
              "      <td>2007</td>\n",
              "      <td>2</td>\n",
              "      <td>2</td>\n",
              "      <td>1</td>\n",
              "    </tr>\n",
              "    <tr>\n",
              "      <th>4</th>\n",
              "      <td>FDY38</td>\n",
              "      <td>10.500</td>\n",
              "      <td>1</td>\n",
              "      <td>0.118599</td>\n",
              "      <td>5</td>\n",
              "      <td>234.2300</td>\n",
              "      <td>27</td>\n",
              "      <td>1985</td>\n",
              "      <td>2</td>\n",
              "      <td>3</td>\n",
              "      <td>3</td>\n",
              "    </tr>\n",
              "    <tr>\n",
              "      <th>...</th>\n",
              "      <td>...</td>\n",
              "      <td>...</td>\n",
              "      <td>...</td>\n",
              "      <td>...</td>\n",
              "      <td>...</td>\n",
              "      <td>...</td>\n",
              "      <td>...</td>\n",
              "      <td>...</td>\n",
              "      <td>...</td>\n",
              "      <td>...</td>\n",
              "      <td>...</td>\n",
              "    </tr>\n",
              "    <tr>\n",
              "      <th>5676</th>\n",
              "      <td>FDB58</td>\n",
              "      <td>10.500</td>\n",
              "      <td>1</td>\n",
              "      <td>0.013496</td>\n",
              "      <td>14</td>\n",
              "      <td>141.3154</td>\n",
              "      <td>46</td>\n",
              "      <td>1997</td>\n",
              "      <td>3</td>\n",
              "      <td>1</td>\n",
              "      <td>1</td>\n",
              "    </tr>\n",
              "    <tr>\n",
              "      <th>5677</th>\n",
              "      <td>FDD47</td>\n",
              "      <td>7.600</td>\n",
              "      <td>1</td>\n",
              "      <td>0.142991</td>\n",
              "      <td>16</td>\n",
              "      <td>169.1448</td>\n",
              "      <td>18</td>\n",
              "      <td>2009</td>\n",
              "      <td>2</td>\n",
              "      <td>3</td>\n",
              "      <td>2</td>\n",
              "    </tr>\n",
              "    <tr>\n",
              "      <th>5678</th>\n",
              "      <td>NCO17</td>\n",
              "      <td>10.000</td>\n",
              "      <td>0</td>\n",
              "      <td>0.073529</td>\n",
              "      <td>9</td>\n",
              "      <td>118.7440</td>\n",
              "      <td>45</td>\n",
              "      <td>2002</td>\n",
              "      <td>2</td>\n",
              "      <td>2</td>\n",
              "      <td>1</td>\n",
              "    </tr>\n",
              "    <tr>\n",
              "      <th>5679</th>\n",
              "      <td>FDJ26</td>\n",
              "      <td>15.300</td>\n",
              "      <td>1</td>\n",
              "      <td>0.000000</td>\n",
              "      <td>4</td>\n",
              "      <td>214.6218</td>\n",
              "      <td>17</td>\n",
              "      <td>2007</td>\n",
              "      <td>2</td>\n",
              "      <td>2</td>\n",
              "      <td>1</td>\n",
              "    </tr>\n",
              "    <tr>\n",
              "      <th>5680</th>\n",
              "      <td>FDU37</td>\n",
              "      <td>9.500</td>\n",
              "      <td>1</td>\n",
              "      <td>0.104720</td>\n",
              "      <td>4</td>\n",
              "      <td>79.7960</td>\n",
              "      <td>45</td>\n",
              "      <td>2002</td>\n",
              "      <td>2</td>\n",
              "      <td>2</td>\n",
              "      <td>1</td>\n",
              "    </tr>\n",
              "  </tbody>\n",
              "</table>\n",
              "<p>5681 rows × 11 columns</p>\n",
              "</div>"
            ],
            "text/plain": [
              "     Item_Identifier  Item_Weight  ...  Outlet_Location_Type  Outlet_Type\n",
              "0              FDW58       20.750  ...                     1            1\n",
              "1              FDW14        8.300  ...                     2            1\n",
              "2              NCN55       14.600  ...                     3            4\n",
              "3              FDQ58        7.315  ...                     2            1\n",
              "4              FDY38       10.500  ...                     3            3\n",
              "...              ...          ...  ...                   ...          ...\n",
              "5676           FDB58       10.500  ...                     1            1\n",
              "5677           FDD47        7.600  ...                     3            2\n",
              "5678           NCO17       10.000  ...                     2            1\n",
              "5679           FDJ26       15.300  ...                     2            1\n",
              "5680           FDU37        9.500  ...                     2            1\n",
              "\n",
              "[5681 rows x 11 columns]"
            ]
          },
          "metadata": {
            "tags": []
          },
          "execution_count": 1032
        }
      ]
    },
    {
      "cell_type": "code",
      "metadata": {
        "id": "XVFFy_xbk756",
        "colab_type": "code",
        "colab": {}
      },
      "source": [
        "#define x, y and x_test\n",
        "y = df_train[\"Item_Outlet_Sales\"]\n",
        "features = [\"Item_Weight\", \"Item_Fat_Content\", \"Item_Visibility\", \"Item_Type\", \"Item_MRP\", \"Outlet_Identifier\", \"Outlet_Establishment_Year\", \"Outlet_Size\", \"Outlet_Location_Type\"]\n",
        "X = pd.get_dummies(df_train[features])\n",
        "X_test = pd.get_dummies(df_test[features])"
      ],
      "execution_count": 1033,
      "outputs": []
    },
    {
      "cell_type": "code",
      "metadata": {
        "id": "tKWfCq-Kb90j",
        "colab_type": "code",
        "colab": {
          "base_uri": "https://localhost:8080/",
          "height": 238
        },
        "outputId": "42809e83-a761-417f-e275-d2b5c2b5fa0c"
      },
      "source": [
        "# define standard scaler\n",
        "scaler = StandardScaler()\n",
        "# transform data\n",
        "X= scaler.fit_transform(X)\n",
        "X"
      ],
      "execution_count": 1034,
      "outputs": [
        {
          "output_type": "execute_result",
          "data": {
            "text/plain": [
              "array([[-0.81151126, -0.73814723, -0.97073217, ...,  1.60283982,\n",
              "        -0.69667837, -0.8047318 ],\n",
              "       [-1.60975569,  1.35474328, -0.90811123, ..., -0.62389266,\n",
              "        -0.69667837,  1.24265003],\n",
              "       [ 1.12505806, -0.73814723, -0.95691733, ...,  1.60283982,\n",
              "        -0.69667837, -0.8047318 ],\n",
              "       ...,\n",
              "       [-0.50449417, -0.73814723, -0.59978449, ..., -0.62389266,\n",
              "         1.43538258, -0.8047318 ],\n",
              "       [-1.30510027,  1.35474328,  1.53287976, ..., -0.62389266,\n",
              "        -0.69667837,  1.24265003],\n",
              "       [ 0.48740719, -0.73814723, -0.41193591, ...,  1.60283982,\n",
              "        -0.69667837, -0.8047318 ]])"
            ]
          },
          "metadata": {
            "tags": []
          },
          "execution_count": 1034
        }
      ]
    },
    {
      "cell_type": "code",
      "metadata": {
        "id": "tKEZkyTdchGl",
        "colab_type": "code",
        "colab": {
          "base_uri": "https://localhost:8080/",
          "height": 238
        },
        "outputId": "b6483bad-e470-480d-e97d-9ca6eb43bc32"
      },
      "source": [
        "X_test= scaler.fit_transform(X_test)\n",
        "X_test"
      ],
      "execution_count": 1035,
      "outputs": [
        {
          "output_type": "execute_result",
          "data": {
            "text/plain": [
              "array([[ 1.94956229, -0.74081066, -1.13407715, ...,  1.60264386,\n",
              "        -0.69658363, -0.80474953],\n",
              "       [-0.92914563,  1.34987258, -0.53185019, ..., -0.62396895,\n",
              "         1.4355778 , -0.80474953],\n",
              "       [ 0.52754995, -0.74081066,  0.6613164 , ..., -0.62396895,\n",
              "        -0.69658363,  1.24262265],\n",
              "       ...,\n",
              "       [-0.53606904, -0.74081066,  0.15307374, ..., -0.62396895,\n",
              "         1.4355778 , -0.80474953],\n",
              "       [ 0.68940501,  1.34987258, -1.28168987, ..., -0.62396895,\n",
              "         1.4355778 , -0.80474953],\n",
              "       [-0.6516798 ,  1.34987258,  0.76171558, ..., -0.62396895,\n",
              "         1.4355778 , -0.80474953]])"
            ]
          },
          "metadata": {
            "tags": []
          },
          "execution_count": 1035
        }
      ]
    },
    {
      "cell_type": "code",
      "metadata": {
        "id": "mstA27s6agrZ",
        "colab_type": "code",
        "colab": {}
      },
      "source": [
        "# Split into validation and training data\n",
        "train_X, val_X, train_y, val_y = train_test_split(X, y, random_state=1)\n",
        "test_X = test_data_imputed.copy()[all_features]"
      ],
      "execution_count": 1036,
      "outputs": []
    },
    {
      "cell_type": "code",
      "metadata": {
        "id": "GI53qaIXar6b",
        "colab_type": "code",
        "colab": {
          "base_uri": "https://localhost:8080/",
          "height": 34
        },
        "outputId": "647fce10-364b-4765-fb23-32b2ee5f4dc3"
      },
      "source": [
        "# shape of training and validation set\n",
        "(train_X.shape, val_X.shape), (train_y.shape, val_y.shape)"
      ],
      "execution_count": 1037,
      "outputs": [
        {
          "output_type": "execute_result",
          "data": {
            "text/plain": [
              "(((6392, 20), (2131, 20)), ((6392,), (2131,)))"
            ]
          },
          "metadata": {
            "tags": []
          },
          "execution_count": 1037
        }
      ]
    },
    {
      "cell_type": "code",
      "metadata": {
        "id": "_h5qWJQbbM3b",
        "colab_type": "code",
        "colab": {
          "base_uri": "https://localhost:8080/",
          "height": 34
        },
        "outputId": "77c03333-fcdd-4680-e2fa-28bdcc86fea5"
      },
      "source": [
        "# checking the version of keras\n",
        "import keras\n",
        "print(keras.__version__)"
      ],
      "execution_count": 1038,
      "outputs": [
        {
          "output_type": "stream",
          "text": [
            "2.4.3\n"
          ],
          "name": "stdout"
        }
      ]
    },
    {
      "cell_type": "code",
      "metadata": {
        "id": "7X6HTUDHbSvB",
        "colab_type": "code",
        "colab": {
          "base_uri": "https://localhost:8080/",
          "height": 34
        },
        "outputId": "11cee1d4-7ba0-4063-ebc9-acc289044226"
      },
      "source": [
        "# checking the version of tensorflow\n",
        "import tensorflow as tf\n",
        "print(tf.__version__)"
      ],
      "execution_count": 1039,
      "outputs": [
        {
          "output_type": "stream",
          "text": [
            "2.3.0\n"
          ],
          "name": "stdout"
        }
      ]
    },
    {
      "cell_type": "code",
      "metadata": {
        "id": "oX7Ai7f6bY-B",
        "colab_type": "code",
        "colab": {}
      },
      "source": [
        "# importing the sequential model\n",
        "from keras.models import Sequential"
      ],
      "execution_count": 1040,
      "outputs": []
    },
    {
      "cell_type": "code",
      "metadata": {
        "id": "g5tXOZaBbkhO",
        "colab_type": "code",
        "colab": {}
      },
      "source": [
        "# importing different layers from keras\n",
        "from keras.layers import InputLayer, Dense "
      ],
      "execution_count": 1041,
      "outputs": []
    },
    {
      "cell_type": "code",
      "metadata": {
        "id": "KdYjciYQbskX",
        "colab_type": "code",
        "colab": {
          "base_uri": "https://localhost:8080/",
          "height": 34
        },
        "outputId": "eee2c5dc-010d-4447-d1d3-72433448498e"
      },
      "source": [
        "# number of input neurons\n",
        "train_X.shape"
      ],
      "execution_count": 1042,
      "outputs": [
        {
          "output_type": "execute_result",
          "data": {
            "text/plain": [
              "(6392, 20)"
            ]
          },
          "metadata": {
            "tags": []
          },
          "execution_count": 1042
        }
      ]
    },
    {
      "cell_type": "code",
      "metadata": {
        "id": "GTihh6HzbxTw",
        "colab_type": "code",
        "colab": {
          "base_uri": "https://localhost:8080/",
          "height": 34
        },
        "outputId": "315929a9-b41f-4413-e91f-446027492480"
      },
      "source": [
        "# number of features in the data\n",
        "train_X.shape[1]"
      ],
      "execution_count": 1043,
      "outputs": [
        {
          "output_type": "execute_result",
          "data": {
            "text/plain": [
              "20"
            ]
          },
          "metadata": {
            "tags": []
          },
          "execution_count": 1043
        }
      ]
    },
    {
      "cell_type": "code",
      "metadata": {
        "id": "Isjozg46cLbl",
        "colab_type": "code",
        "colab": {}
      },
      "source": [
        "# defining input neurons\n",
        "input_neurons = train_X.shape[1]"
      ],
      "execution_count": 1044,
      "outputs": []
    },
    {
      "cell_type": "code",
      "metadata": {
        "id": "im2Hxm-JcPZj",
        "colab_type": "code",
        "colab": {}
      },
      "source": [
        "# define number of output neurons\n",
        "output_neurons = 1"
      ],
      "execution_count": 1045,
      "outputs": []
    },
    {
      "cell_type": "code",
      "metadata": {
        "id": "-Ud1rBANcX3-",
        "colab_type": "code",
        "colab": {}
      },
      "source": [
        "# define hidden layers and neuron in each layer\n",
        "number_of_hidden_layers = 2\n",
        "neuron_hidden_layer_1 = 10\n",
        "neuron_hidden_layer_2 = 5"
      ],
      "execution_count": 1046,
      "outputs": []
    },
    {
      "cell_type": "code",
      "metadata": {
        "id": "tBC6FJaYchAM",
        "colab_type": "code",
        "colab": {}
      },
      "source": [
        "# defining the architecture of the model\n",
        "model = Sequential()\n",
        "model.add(InputLayer(input_shape=(input_neurons,)))\n",
        "model.add(Dense(units=neuron_hidden_layer_1, activation='relu'))\n",
        "model.add(Dense(units=neuron_hidden_layer_2, activation='relu'))\n",
        "model.add(Dense(units=output_neurons, activation='linear'))"
      ],
      "execution_count": 1047,
      "outputs": []
    },
    {
      "cell_type": "code",
      "metadata": {
        "id": "_FHSoKZXc5hT",
        "colab_type": "code",
        "colab": {
          "base_uri": "https://localhost:8080/",
          "height": 255
        },
        "outputId": "523a1cea-8209-4028-ee2f-4f8d38c0e0b5"
      },
      "source": [
        "# summary of the model\n",
        "model.summary()"
      ],
      "execution_count": 1048,
      "outputs": [
        {
          "output_type": "stream",
          "text": [
            "Model: \"sequential_15\"\n",
            "_________________________________________________________________\n",
            "Layer (type)                 Output Shape              Param #   \n",
            "=================================================================\n",
            "dense_45 (Dense)             (None, 10)                210       \n",
            "_________________________________________________________________\n",
            "dense_46 (Dense)             (None, 5)                 55        \n",
            "_________________________________________________________________\n",
            "dense_47 (Dense)             (None, 1)                 6         \n",
            "=================================================================\n",
            "Total params: 271\n",
            "Trainable params: 271\n",
            "Non-trainable params: 0\n",
            "_________________________________________________________________\n"
          ],
          "name": "stdout"
        }
      ]
    },
    {
      "cell_type": "code",
      "metadata": {
        "id": "dG14N_YBdwAO",
        "colab_type": "code",
        "colab": {
          "base_uri": "https://localhost:8080/",
          "height": 34
        },
        "outputId": "3ac0767e-ea24-46d9-ae1b-a605df0166e8"
      },
      "source": [
        "# number of parameters between input and first hidden layer\n",
        "input_neurons*neuron_hidden_layer_1"
      ],
      "execution_count": 1049,
      "outputs": [
        {
          "output_type": "execute_result",
          "data": {
            "text/plain": [
              "200"
            ]
          },
          "metadata": {
            "tags": []
          },
          "execution_count": 1049
        }
      ]
    },
    {
      "cell_type": "code",
      "metadata": {
        "id": "vwEEW8c8dyKK",
        "colab_type": "code",
        "colab": {
          "base_uri": "https://localhost:8080/",
          "height": 34
        },
        "outputId": "6ec85a35-160f-4cad-9c97-ac8167338012"
      },
      "source": [
        "# number of parameters between input and first hidden layer\n",
        "# adding the bias for each neuron of first hidden layer\n",
        "input_neurons*neuron_hidden_layer_1 + 10"
      ],
      "execution_count": 1050,
      "outputs": [
        {
          "output_type": "execute_result",
          "data": {
            "text/plain": [
              "210"
            ]
          },
          "metadata": {
            "tags": []
          },
          "execution_count": 1050
        }
      ]
    },
    {
      "cell_type": "code",
      "metadata": {
        "id": "LKracLJgd9SA",
        "colab_type": "code",
        "colab": {
          "base_uri": "https://localhost:8080/",
          "height": 34
        },
        "outputId": "20694cc9-a766-4985-981e-b7b05e4d13fb"
      },
      "source": [
        "# number of parameters between first and second hidden layer\n",
        "neuron_hidden_layer_1*neuron_hidden_layer_2 + 5"
      ],
      "execution_count": 1051,
      "outputs": [
        {
          "output_type": "execute_result",
          "data": {
            "text/plain": [
              "55"
            ]
          },
          "metadata": {
            "tags": []
          },
          "execution_count": 1051
        }
      ]
    },
    {
      "cell_type": "code",
      "metadata": {
        "id": "UTI3rgXteDGx",
        "colab_type": "code",
        "colab": {
          "base_uri": "https://localhost:8080/",
          "height": 34
        },
        "outputId": "6f1b1df5-98cf-4811-84fa-5961e72054bb"
      },
      "source": [
        "# number of parameters between second hidden and output layer\n",
        "neuron_hidden_layer_2*output_neurons + 1"
      ],
      "execution_count": 1052,
      "outputs": [
        {
          "output_type": "execute_result",
          "data": {
            "text/plain": [
              "6"
            ]
          },
          "metadata": {
            "tags": []
          },
          "execution_count": 1052
        }
      ]
    },
    {
      "cell_type": "code",
      "metadata": {
        "id": "qJtIoBrieGI2",
        "colab_type": "code",
        "colab": {}
      },
      "source": [
        "# compiling the model\n",
        "# loss as binary_crossentropy, since we have binary classification problem\n",
        "# defining the optimizer as adam\n",
        "# Evaluation metric as accuracy\n",
        "model.compile(loss='mse',optimizer='Adam',metrics=['accuracy'])"
      ],
      "execution_count": 1053,
      "outputs": []
    },
    {
      "cell_type": "code",
      "metadata": {
        "id": "grwmU3Lzs-S0",
        "colab_type": "code",
        "colab": {
          "base_uri": "https://localhost:8080/",
          "height": 238
        },
        "outputId": "b95fedd9-9bae-4b46-edce-84bba3dc493b"
      },
      "source": [
        "train_X"
      ],
      "execution_count": 1054,
      "outputs": [
        {
          "output_type": "execute_result",
          "data": {
            "text/plain": [
              "array([[-1.33107864, -0.73814723,  0.85479095, ..., -0.62389266,\n",
              "         1.43538258, -0.8047318 ],\n",
              "       [-0.03216019,  1.35474328,  0.15905739, ..., -0.62389266,\n",
              "         1.43538258, -0.8047318 ],\n",
              "       [-1.11380501, -0.73814723,  0.87775441, ..., -0.62389266,\n",
              "         1.43538258, -0.8047318 ],\n",
              "       ...,\n",
              "       [ 1.20771651, -0.73814723, -0.00624063, ...,  1.60283982,\n",
              "        -0.69667837, -0.8047318 ],\n",
              "       [-0.74066117, -0.73814723, -0.32007616, ..., -0.62389266,\n",
              "        -0.69667837,  1.24265003],\n",
              "       [-0.13843534, -0.73814723, -0.43722179, ..., -0.62389266,\n",
              "        -0.69667837,  1.24265003]])"
            ]
          },
          "metadata": {
            "tags": []
          },
          "execution_count": 1054
        }
      ]
    },
    {
      "cell_type": "code",
      "metadata": {
        "id": "0D-KFUlgeVXG",
        "colab_type": "code",
        "colab": {
          "base_uri": "https://localhost:8080/",
          "height": 1000
        },
        "outputId": "fe111396-2461-47b1-95ce-c4566b08c28d"
      },
      "source": [
        "# training the model\n",
        "# passing the independent and dependent features for training set for training the model\n",
        "# validation data will be evaluated at the end of each epoch\n",
        "# setting the epochs as 50\n",
        "# storing the trained model in model_history variable which will be used to visualize the training process\n",
        "\n",
        "train_X = np.asarray(train_X, dtype=np.float)\n",
        "train_y = np.asarray(train_y, dtype=np.float)\n",
        "val_X = np.asarray(val_X, dtype=np.float)\n",
        "val_y = np.asarray(val_y, dtype=np.float)\n",
        "\n",
        "model_history = model.fit(train_X, train_y, validation_data=(val_X, val_y), epochs=50)"
      ],
      "execution_count": 1055,
      "outputs": [
        {
          "output_type": "stream",
          "text": [
            "Epoch 1/50\n",
            "200/200 [==============================] - 0s 2ms/step - loss: 7686182.5000 - accuracy: 0.0000e+00 - val_loss: 7507966.0000 - val_accuracy: 0.0000e+00\n",
            "Epoch 2/50\n",
            "200/200 [==============================] - 0s 1ms/step - loss: 7547167.5000 - accuracy: 0.0000e+00 - val_loss: 7249019.0000 - val_accuracy: 0.0000e+00\n",
            "Epoch 3/50\n",
            "200/200 [==============================] - 0s 1ms/step - loss: 7105637.0000 - accuracy: 0.0000e+00 - val_loss: 6622539.5000 - val_accuracy: 0.0000e+00\n",
            "Epoch 4/50\n",
            "200/200 [==============================] - 0s 1ms/step - loss: 6268627.5000 - accuracy: 0.0000e+00 - val_loss: 5614554.5000 - val_accuracy: 0.0000e+00\n",
            "Epoch 5/50\n",
            "200/200 [==============================] - 0s 1ms/step - loss: 5100330.5000 - accuracy: 0.0000e+00 - val_loss: 4375584.0000 - val_accuracy: 0.0000e+00\n",
            "Epoch 6/50\n",
            "200/200 [==============================] - 0s 1ms/step - loss: 3830727.0000 - accuracy: 0.0000e+00 - val_loss: 3182723.7500 - val_accuracy: 0.0000e+00\n",
            "Epoch 7/50\n",
            "200/200 [==============================] - 0s 1ms/step - loss: 2744105.2500 - accuracy: 0.0000e+00 - val_loss: 2282145.7500 - val_accuracy: 0.0000e+00\n",
            "Epoch 8/50\n",
            "200/200 [==============================] - 0s 1ms/step - loss: 2026836.2500 - accuracy: 0.0000e+00 - val_loss: 1768455.7500 - val_accuracy: 0.0000e+00\n",
            "Epoch 9/50\n",
            "200/200 [==============================] - 0s 1ms/step - loss: 1660761.2500 - accuracy: 0.0000e+00 - val_loss: 1534929.0000 - val_accuracy: 0.0000e+00\n",
            "Epoch 10/50\n",
            "200/200 [==============================] - 0s 1ms/step - loss: 1501208.2500 - accuracy: 0.0000e+00 - val_loss: 1430239.0000 - val_accuracy: 0.0000e+00\n",
            "Epoch 11/50\n",
            "200/200 [==============================] - 0s 1ms/step - loss: 1425232.3750 - accuracy: 0.0000e+00 - val_loss: 1372802.7500 - val_accuracy: 0.0000e+00\n",
            "Epoch 12/50\n",
            "200/200 [==============================] - 0s 1ms/step - loss: 1376693.8750 - accuracy: 0.0000e+00 - val_loss: 1332546.1250 - val_accuracy: 0.0000e+00\n",
            "Epoch 13/50\n",
            "200/200 [==============================] - 0s 1ms/step - loss: 1340038.1250 - accuracy: 0.0000e+00 - val_loss: 1299606.8750 - val_accuracy: 0.0000e+00\n",
            "Epoch 14/50\n",
            "200/200 [==============================] - 0s 1ms/step - loss: 1310483.7500 - accuracy: 0.0000e+00 - val_loss: 1273769.0000 - val_accuracy: 0.0000e+00\n",
            "Epoch 15/50\n",
            "200/200 [==============================] - 0s 1ms/step - loss: 1286062.0000 - accuracy: 0.0000e+00 - val_loss: 1251833.1250 - val_accuracy: 0.0000e+00\n",
            "Epoch 16/50\n",
            "200/200 [==============================] - 0s 1ms/step - loss: 1266149.3750 - accuracy: 0.0000e+00 - val_loss: 1234658.7500 - val_accuracy: 0.0000e+00\n",
            "Epoch 17/50\n",
            "200/200 [==============================] - 0s 2ms/step - loss: 1249250.8750 - accuracy: 0.0000e+00 - val_loss: 1220332.7500 - val_accuracy: 0.0000e+00\n",
            "Epoch 18/50\n",
            "200/200 [==============================] - 0s 1ms/step - loss: 1235436.0000 - accuracy: 0.0000e+00 - val_loss: 1208104.8750 - val_accuracy: 0.0000e+00\n",
            "Epoch 19/50\n",
            "200/200 [==============================] - 0s 1ms/step - loss: 1224123.3750 - accuracy: 0.0000e+00 - val_loss: 1199446.7500 - val_accuracy: 0.0000e+00\n",
            "Epoch 20/50\n",
            "200/200 [==============================] - 0s 1ms/step - loss: 1215003.6250 - accuracy: 0.0000e+00 - val_loss: 1191169.1250 - val_accuracy: 0.0000e+00\n",
            "Epoch 21/50\n",
            "200/200 [==============================] - 0s 1ms/step - loss: 1207468.0000 - accuracy: 0.0000e+00 - val_loss: 1185294.0000 - val_accuracy: 0.0000e+00\n",
            "Epoch 22/50\n",
            "200/200 [==============================] - 0s 1ms/step - loss: 1201674.5000 - accuracy: 0.0000e+00 - val_loss: 1180290.2500 - val_accuracy: 0.0000e+00\n",
            "Epoch 23/50\n",
            "200/200 [==============================] - 0s 1ms/step - loss: 1196443.0000 - accuracy: 0.0000e+00 - val_loss: 1175662.6250 - val_accuracy: 0.0000e+00\n",
            "Epoch 24/50\n",
            "200/200 [==============================] - 0s 1ms/step - loss: 1192290.2500 - accuracy: 0.0000e+00 - val_loss: 1173255.7500 - val_accuracy: 0.0000e+00\n",
            "Epoch 25/50\n",
            "200/200 [==============================] - 0s 1ms/step - loss: 1189510.2500 - accuracy: 0.0000e+00 - val_loss: 1170715.2500 - val_accuracy: 0.0000e+00\n",
            "Epoch 26/50\n",
            "200/200 [==============================] - 0s 1ms/step - loss: 1186617.5000 - accuracy: 0.0000e+00 - val_loss: 1168782.6250 - val_accuracy: 0.0000e+00\n",
            "Epoch 27/50\n",
            "200/200 [==============================] - 0s 1ms/step - loss: 1184252.0000 - accuracy: 0.0000e+00 - val_loss: 1167887.1250 - val_accuracy: 0.0000e+00\n",
            "Epoch 28/50\n",
            "200/200 [==============================] - 0s 1ms/step - loss: 1181974.3750 - accuracy: 0.0000e+00 - val_loss: 1165897.0000 - val_accuracy: 0.0000e+00\n",
            "Epoch 29/50\n",
            "200/200 [==============================] - 0s 1ms/step - loss: 1180408.5000 - accuracy: 0.0000e+00 - val_loss: 1164983.7500 - val_accuracy: 0.0000e+00\n",
            "Epoch 30/50\n",
            "200/200 [==============================] - 0s 1ms/step - loss: 1179109.6250 - accuracy: 0.0000e+00 - val_loss: 1163725.6250 - val_accuracy: 0.0000e+00\n",
            "Epoch 31/50\n",
            "200/200 [==============================] - 0s 1ms/step - loss: 1177679.5000 - accuracy: 0.0000e+00 - val_loss: 1162608.6250 - val_accuracy: 0.0000e+00\n",
            "Epoch 32/50\n",
            "200/200 [==============================] - 0s 1ms/step - loss: 1177235.6250 - accuracy: 0.0000e+00 - val_loss: 1161574.6250 - val_accuracy: 0.0000e+00\n",
            "Epoch 33/50\n",
            "200/200 [==============================] - 0s 1ms/step - loss: 1175562.0000 - accuracy: 0.0000e+00 - val_loss: 1161287.0000 - val_accuracy: 0.0000e+00\n",
            "Epoch 34/50\n",
            "200/200 [==============================] - 0s 1ms/step - loss: 1174445.6250 - accuracy: 0.0000e+00 - val_loss: 1160304.5000 - val_accuracy: 0.0000e+00\n",
            "Epoch 35/50\n",
            "200/200 [==============================] - 0s 1ms/step - loss: 1173657.8750 - accuracy: 0.0000e+00 - val_loss: 1160575.1250 - val_accuracy: 0.0000e+00\n",
            "Epoch 36/50\n",
            "200/200 [==============================] - 0s 1ms/step - loss: 1172656.3750 - accuracy: 0.0000e+00 - val_loss: 1159479.8750 - val_accuracy: 0.0000e+00\n",
            "Epoch 37/50\n",
            "200/200 [==============================] - 0s 1ms/step - loss: 1172078.8750 - accuracy: 0.0000e+00 - val_loss: 1158693.0000 - val_accuracy: 0.0000e+00\n",
            "Epoch 38/50\n",
            "200/200 [==============================] - 0s 1ms/step - loss: 1171274.1250 - accuracy: 0.0000e+00 - val_loss: 1158163.2500 - val_accuracy: 0.0000e+00\n",
            "Epoch 39/50\n",
            "200/200 [==============================] - 0s 1ms/step - loss: 1170500.1250 - accuracy: 0.0000e+00 - val_loss: 1157561.2500 - val_accuracy: 0.0000e+00\n",
            "Epoch 40/50\n",
            "200/200 [==============================] - 0s 1ms/step - loss: 1169609.1250 - accuracy: 0.0000e+00 - val_loss: 1157413.7500 - val_accuracy: 0.0000e+00\n",
            "Epoch 41/50\n",
            "200/200 [==============================] - 0s 1ms/step - loss: 1168989.2500 - accuracy: 0.0000e+00 - val_loss: 1156774.6250 - val_accuracy: 0.0000e+00\n",
            "Epoch 42/50\n",
            "200/200 [==============================] - 0s 1ms/step - loss: 1168541.1250 - accuracy: 0.0000e+00 - val_loss: 1156662.6250 - val_accuracy: 0.0000e+00\n",
            "Epoch 43/50\n",
            "200/200 [==============================] - 0s 1ms/step - loss: 1168061.0000 - accuracy: 0.0000e+00 - val_loss: 1155460.2500 - val_accuracy: 0.0000e+00\n",
            "Epoch 44/50\n",
            "200/200 [==============================] - 0s 1ms/step - loss: 1167174.6250 - accuracy: 0.0000e+00 - val_loss: 1155373.7500 - val_accuracy: 0.0000e+00\n",
            "Epoch 45/50\n",
            "200/200 [==============================] - 0s 1ms/step - loss: 1166486.3750 - accuracy: 0.0000e+00 - val_loss: 1155250.8750 - val_accuracy: 0.0000e+00\n",
            "Epoch 46/50\n",
            "200/200 [==============================] - 0s 1ms/step - loss: 1166119.2500 - accuracy: 0.0000e+00 - val_loss: 1154380.2500 - val_accuracy: 0.0000e+00\n",
            "Epoch 47/50\n",
            "200/200 [==============================] - 0s 1ms/step - loss: 1165641.6250 - accuracy: 0.0000e+00 - val_loss: 1153752.0000 - val_accuracy: 0.0000e+00\n",
            "Epoch 48/50\n",
            "200/200 [==============================] - 0s 1ms/step - loss: 1165203.3750 - accuracy: 0.0000e+00 - val_loss: 1153695.0000 - val_accuracy: 0.0000e+00\n",
            "Epoch 49/50\n",
            "200/200 [==============================] - 0s 1ms/step - loss: 1164730.2500 - accuracy: 0.0000e+00 - val_loss: 1152990.2500 - val_accuracy: 0.0000e+00\n",
            "Epoch 50/50\n",
            "200/200 [==============================] - 0s 1ms/step - loss: 1163890.7500 - accuracy: 0.0000e+00 - val_loss: 1152876.5000 - val_accuracy: 0.0000e+00\n"
          ],
          "name": "stdout"
        }
      ]
    },
    {
      "cell_type": "code",
      "metadata": {
        "id": "iuk4w_M6eTCz",
        "colab_type": "code",
        "colab": {
          "base_uri": "https://localhost:8080/",
          "height": 136
        },
        "outputId": "cb2b0df8-50c8-436a-aec2-1e3550e8d4c7"
      },
      "source": [
        "from sklearn.metrics import mean_squared_error,mean_absolute_error\n",
        "predictions = model.predict(X_test)\n",
        "predictions"
      ],
      "execution_count": 1056,
      "outputs": [
        {
          "output_type": "execute_result",
          "data": {
            "text/plain": [
              "array([[1744.4048],\n",
              "       [1433.2289],\n",
              "       [ 883.6203],\n",
              "       ...,\n",
              "       [1696.6794],\n",
              "       [3681.5393],\n",
              "       [1177.3772]], dtype=float32)"
            ]
          },
          "metadata": {
            "tags": []
          },
          "execution_count": 1056
        }
      ]
    },
    {
      "cell_type": "code",
      "metadata": {
        "id": "fgT38-htfUxl",
        "colab_type": "code",
        "colab": {
          "base_uri": "https://localhost:8080/",
          "height": 136
        },
        "outputId": "ee24d1da-fde4-459f-9890-c592b2fe8e61"
      },
      "source": [
        "predictions"
      ],
      "execution_count": 1057,
      "outputs": [
        {
          "output_type": "execute_result",
          "data": {
            "text/plain": [
              "array([[1744.4048],\n",
              "       [1433.2289],\n",
              "       [ 883.6203],\n",
              "       ...,\n",
              "       [1696.6794],\n",
              "       [3681.5393],\n",
              "       [1177.3772]], dtype=float32)"
            ]
          },
          "metadata": {
            "tags": []
          },
          "execution_count": 1057
        }
      ]
    },
    {
      "cell_type": "code",
      "metadata": {
        "id": "PreYQERhgnDR",
        "colab_type": "code",
        "colab": {
          "base_uri": "https://localhost:8080/",
          "height": 34
        },
        "outputId": "4a126d6e-9d62-4050-e9bb-a95572c25302"
      },
      "source": [
        "predictions.shape"
      ],
      "execution_count": 1058,
      "outputs": [
        {
          "output_type": "execute_result",
          "data": {
            "text/plain": [
              "(5681, 1)"
            ]
          },
          "metadata": {
            "tags": []
          },
          "execution_count": 1058
        }
      ]
    },
    {
      "cell_type": "code",
      "metadata": {
        "id": "AjhRd-3uhceD",
        "colab_type": "code",
        "colab": {
          "base_uri": "https://localhost:8080/",
          "height": 34
        },
        "outputId": "c201b8b4-14b1-42de-d4cf-fe8dd831f526"
      },
      "source": [
        "predictions.ndim"
      ],
      "execution_count": 1059,
      "outputs": [
        {
          "output_type": "execute_result",
          "data": {
            "text/plain": [
              "2"
            ]
          },
          "metadata": {
            "tags": []
          },
          "execution_count": 1059
        }
      ]
    },
    {
      "cell_type": "code",
      "metadata": {
        "id": "yy4yWIA8h4Xf",
        "colab_type": "code",
        "colab": {
          "base_uri": "https://localhost:8080/",
          "height": 34
        },
        "outputId": "e60e0bb6-e63d-4be1-fe73-27345587ff23"
      },
      "source": [
        "predictions=predictions.flatten()\n",
        "predictions.ndim"
      ],
      "execution_count": 1060,
      "outputs": [
        {
          "output_type": "execute_result",
          "data": {
            "text/plain": [
              "1"
            ]
          },
          "metadata": {
            "tags": []
          },
          "execution_count": 1060
        }
      ]
    },
    {
      "cell_type": "code",
      "metadata": {
        "id": "3vmSQV1yDG48",
        "colab_type": "code",
        "colab": {
          "base_uri": "https://localhost:8080/",
          "height": 419
        },
        "outputId": "ff669ab3-d5ee-4c41-c267-b2bc2b90703e"
      },
      "source": [
        "#Load sample submission\n",
        "df_sample=pd.read_csv(\"https://datahack-prod.s3.amazonaws.com/sample_submission/sample_submission_8RXa3c6.csv\")\n",
        "df_sample"
      ],
      "execution_count": 1061,
      "outputs": [
        {
          "output_type": "execute_result",
          "data": {
            "text/html": [
              "<div>\n",
              "<style scoped>\n",
              "    .dataframe tbody tr th:only-of-type {\n",
              "        vertical-align: middle;\n",
              "    }\n",
              "\n",
              "    .dataframe tbody tr th {\n",
              "        vertical-align: top;\n",
              "    }\n",
              "\n",
              "    .dataframe thead th {\n",
              "        text-align: right;\n",
              "    }\n",
              "</style>\n",
              "<table border=\"1\" class=\"dataframe\">\n",
              "  <thead>\n",
              "    <tr style=\"text-align: right;\">\n",
              "      <th></th>\n",
              "      <th>Item_Identifier</th>\n",
              "      <th>Outlet_Identifier</th>\n",
              "      <th>Item_Outlet_Sales</th>\n",
              "    </tr>\n",
              "  </thead>\n",
              "  <tbody>\n",
              "    <tr>\n",
              "      <th>0</th>\n",
              "      <td>FDW58</td>\n",
              "      <td>OUT049</td>\n",
              "      <td>1000</td>\n",
              "    </tr>\n",
              "    <tr>\n",
              "      <th>1</th>\n",
              "      <td>FDW14</td>\n",
              "      <td>OUT017</td>\n",
              "      <td>1000</td>\n",
              "    </tr>\n",
              "    <tr>\n",
              "      <th>2</th>\n",
              "      <td>NCN55</td>\n",
              "      <td>OUT010</td>\n",
              "      <td>1000</td>\n",
              "    </tr>\n",
              "    <tr>\n",
              "      <th>3</th>\n",
              "      <td>FDQ58</td>\n",
              "      <td>OUT017</td>\n",
              "      <td>1000</td>\n",
              "    </tr>\n",
              "    <tr>\n",
              "      <th>4</th>\n",
              "      <td>FDY38</td>\n",
              "      <td>OUT027</td>\n",
              "      <td>1000</td>\n",
              "    </tr>\n",
              "    <tr>\n",
              "      <th>...</th>\n",
              "      <td>...</td>\n",
              "      <td>...</td>\n",
              "      <td>...</td>\n",
              "    </tr>\n",
              "    <tr>\n",
              "      <th>5676</th>\n",
              "      <td>FDB58</td>\n",
              "      <td>OUT046</td>\n",
              "      <td>1000</td>\n",
              "    </tr>\n",
              "    <tr>\n",
              "      <th>5677</th>\n",
              "      <td>FDD47</td>\n",
              "      <td>OUT018</td>\n",
              "      <td>1000</td>\n",
              "    </tr>\n",
              "    <tr>\n",
              "      <th>5678</th>\n",
              "      <td>NCO17</td>\n",
              "      <td>OUT045</td>\n",
              "      <td>1000</td>\n",
              "    </tr>\n",
              "    <tr>\n",
              "      <th>5679</th>\n",
              "      <td>FDJ26</td>\n",
              "      <td>OUT017</td>\n",
              "      <td>1000</td>\n",
              "    </tr>\n",
              "    <tr>\n",
              "      <th>5680</th>\n",
              "      <td>FDU37</td>\n",
              "      <td>OUT045</td>\n",
              "      <td>1000</td>\n",
              "    </tr>\n",
              "  </tbody>\n",
              "</table>\n",
              "<p>5681 rows × 3 columns</p>\n",
              "</div>"
            ],
            "text/plain": [
              "     Item_Identifier Outlet_Identifier  Item_Outlet_Sales\n",
              "0              FDW58            OUT049               1000\n",
              "1              FDW14            OUT017               1000\n",
              "2              NCN55            OUT010               1000\n",
              "3              FDQ58            OUT017               1000\n",
              "4              FDY38            OUT027               1000\n",
              "...              ...               ...                ...\n",
              "5676           FDB58            OUT046               1000\n",
              "5677           FDD47            OUT018               1000\n",
              "5678           NCO17            OUT045               1000\n",
              "5679           FDJ26            OUT017               1000\n",
              "5680           FDU37            OUT045               1000\n",
              "\n",
              "[5681 rows x 3 columns]"
            ]
          },
          "metadata": {
            "tags": []
          },
          "execution_count": 1061
        }
      ]
    },
    {
      "cell_type": "code",
      "metadata": {
        "id": "gXP-L34Gi0Ji",
        "colab_type": "code",
        "colab": {}
      },
      "source": [
        "df_test.Outlet_Identifier=\"OUT0\"+df_test.Outlet_Identifier"
      ],
      "execution_count": 1062,
      "outputs": []
    },
    {
      "cell_type": "code",
      "metadata": {
        "id": "Jn5CJIx2TmRd",
        "colab_type": "code",
        "colab": {
          "base_uri": "https://localhost:8080/",
          "height": 419
        },
        "outputId": "70c816c1-53c1-4c8d-98bb-b344bf0164bd"
      },
      "source": [
        "output = pd.DataFrame({'Item_Identifier': df_test.Item_Identifier,'Outlet_Identifier': df_test.Outlet_Identifier,\n",
        "                       'Item_Outlet_Sales': predictions})\n",
        "output.to_csv('submission.csv', index=False)\n",
        "output"
      ],
      "execution_count": 1063,
      "outputs": [
        {
          "output_type": "execute_result",
          "data": {
            "text/html": [
              "<div>\n",
              "<style scoped>\n",
              "    .dataframe tbody tr th:only-of-type {\n",
              "        vertical-align: middle;\n",
              "    }\n",
              "\n",
              "    .dataframe tbody tr th {\n",
              "        vertical-align: top;\n",
              "    }\n",
              "\n",
              "    .dataframe thead th {\n",
              "        text-align: right;\n",
              "    }\n",
              "</style>\n",
              "<table border=\"1\" class=\"dataframe\">\n",
              "  <thead>\n",
              "    <tr style=\"text-align: right;\">\n",
              "      <th></th>\n",
              "      <th>Item_Identifier</th>\n",
              "      <th>Outlet_Identifier</th>\n",
              "      <th>Item_Outlet_Sales</th>\n",
              "    </tr>\n",
              "  </thead>\n",
              "  <tbody>\n",
              "    <tr>\n",
              "      <th>0</th>\n",
              "      <td>FDW58</td>\n",
              "      <td>OUT049</td>\n",
              "      <td>1744.404785</td>\n",
              "    </tr>\n",
              "    <tr>\n",
              "      <th>1</th>\n",
              "      <td>FDW14</td>\n",
              "      <td>OUT017</td>\n",
              "      <td>1433.228882</td>\n",
              "    </tr>\n",
              "    <tr>\n",
              "      <th>2</th>\n",
              "      <td>NCN55</td>\n",
              "      <td>OUT010</td>\n",
              "      <td>883.620300</td>\n",
              "    </tr>\n",
              "    <tr>\n",
              "      <th>3</th>\n",
              "      <td>FDQ58</td>\n",
              "      <td>OUT017</td>\n",
              "      <td>2588.942627</td>\n",
              "    </tr>\n",
              "    <tr>\n",
              "      <th>4</th>\n",
              "      <td>FDY38</td>\n",
              "      <td>OUT027</td>\n",
              "      <td>5803.246582</td>\n",
              "    </tr>\n",
              "    <tr>\n",
              "      <th>...</th>\n",
              "      <td>...</td>\n",
              "      <td>...</td>\n",
              "      <td>...</td>\n",
              "    </tr>\n",
              "    <tr>\n",
              "      <th>5676</th>\n",
              "      <td>FDB58</td>\n",
              "      <td>OUT046</td>\n",
              "      <td>2264.766113</td>\n",
              "    </tr>\n",
              "    <tr>\n",
              "      <th>5677</th>\n",
              "      <td>FDD47</td>\n",
              "      <td>OUT018</td>\n",
              "      <td>2395.046387</td>\n",
              "    </tr>\n",
              "    <tr>\n",
              "      <th>5678</th>\n",
              "      <td>NCO17</td>\n",
              "      <td>OUT045</td>\n",
              "      <td>1696.679443</td>\n",
              "    </tr>\n",
              "    <tr>\n",
              "      <th>5679</th>\n",
              "      <td>FDJ26</td>\n",
              "      <td>OUT017</td>\n",
              "      <td>3681.539307</td>\n",
              "    </tr>\n",
              "    <tr>\n",
              "      <th>5680</th>\n",
              "      <td>FDU37</td>\n",
              "      <td>OUT045</td>\n",
              "      <td>1177.377197</td>\n",
              "    </tr>\n",
              "  </tbody>\n",
              "</table>\n",
              "<p>5681 rows × 3 columns</p>\n",
              "</div>"
            ],
            "text/plain": [
              "     Item_Identifier Outlet_Identifier  Item_Outlet_Sales\n",
              "0              FDW58            OUT049        1744.404785\n",
              "1              FDW14            OUT017        1433.228882\n",
              "2              NCN55            OUT010         883.620300\n",
              "3              FDQ58            OUT017        2588.942627\n",
              "4              FDY38            OUT027        5803.246582\n",
              "...              ...               ...                ...\n",
              "5676           FDB58            OUT046        2264.766113\n",
              "5677           FDD47            OUT018        2395.046387\n",
              "5678           NCO17            OUT045        1696.679443\n",
              "5679           FDJ26            OUT017        3681.539307\n",
              "5680           FDU37            OUT045        1177.377197\n",
              "\n",
              "[5681 rows x 3 columns]"
            ]
          },
          "metadata": {
            "tags": []
          },
          "execution_count": 1063
        }
      ]
    }
  ]
}